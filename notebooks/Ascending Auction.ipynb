{
 "cells": [
  {
   "cell_type": "code",
   "execution_count": 1,
   "metadata": {},
   "outputs": [],
   "source": [
    "import zerosum as zs"
   ]
  },
  {
   "cell_type": "code",
   "execution_count": 140,
   "metadata": {},
   "outputs": [],
   "source": [
    "from typing import ClassVar, cast\n",
    "from dataclasses import dataclass\n",
    "import random\n",
    "\n",
    "\n",
    "@dataclass(slots=True, frozen=True)\n",
    "class Reserve:\n",
    "    reserve: int\n",
    "\n",
    "\n",
    "@dataclass(slots=True, frozen=True)\n",
    "class Bid:\n",
    "    bid: int\n",
    "\n",
    "\n",
    "@dataclass(slots=True, frozen=True)\n",
    "class Fold:\n",
    "    ...\n",
    "\n",
    "\n",
    "Action = Reserve | Bid | Fold\n",
    "\n",
    "\n",
    "@dataclass(slots=True, frozen=True)\n",
    "class InfoSet:\n",
    "    player: zs.Player\n",
    "    reserve: int\n",
    "\n",
    "    theirs: tuple[int, ...]\n",
    "    ours: tuple[int, ...]\n",
    "\n",
    "    def actions(self) -> tuple[Action, ...]:\n",
    "        last = 0\n",
    "        if self.theirs:\n",
    "            last = self.theirs[-1]\n",
    "\n",
    "        return (Fold(),) + tuple(Bid(q) for q in range(1 + last, 1 + self.reserve))\n",
    "\n",
    "\n",
    "@dataclass(slots=True, frozen=True)\n",
    "class Ascending:\n",
    "    players: ClassVar[int] = 2\n",
    "    maxreserve: ClassVar[int] = 20\n",
    "    cap: ClassVar[int] = 4\n",
    "\n",
    "    history: tuple[Action, ...] = ()\n",
    "\n",
    "    @classmethod\n",
    "    def default(cls):\n",
    "        return cls()\n",
    "\n",
    "    @property\n",
    "    def terminal(self):\n",
    "        return (\n",
    "            len(self.history) - 2 > self.cap\n",
    "            or (bool(self.history) and isinstance(self.history[-1], Fold))\n",
    "        )\n",
    "\n",
    "    def payoff(self, player: zs.Player):\n",
    "        if not isinstance(self.history[-1], Fold):\n",
    "            return 0\n",
    "\n",
    "        reserve = cast(Reserve, self.history[player]).reserve\n",
    "        if len(self.history) == 3:\n",
    "            return reserve if player == self.active else 0\n",
    "\n",
    "        last = cast(Bid, self.history[-2]).bid\n",
    "        winner = zs.Player(self.active)\n",
    "\n",
    "        if winner == player:\n",
    "            return reserve - last\n",
    "        \n",
    "        return 0\n",
    "\n",
    "    @property\n",
    "    def chance(self) -> bool:\n",
    "        return len(self.history) < 2\n",
    "    \n",
    "    def chances(self):\n",
    "        raise NotImplementedError\n",
    "    \n",
    "    def sample(self):\n",
    "        return Reserve(random.randint(1, self.maxreserve))\n",
    "    \n",
    "    @property\n",
    "    def active(self):\n",
    "        return zs.Player(len(self.history) % 2)\n",
    "\n",
    "    def infoset(self, player: zs.Player):\n",
    "        reserve = cast(Reserve, self.history[player])\n",
    "\n",
    "        theirs = tuple(cast(Bid, a).bid for a in self.history[2 + (1 - player)::2])\n",
    "        ours = tuple(cast(Bid, a).bid for a in self.history[2 + player::2])\n",
    "\n",
    "        return InfoSet(player, reserve.reserve, theirs, ours)\n",
    "    \n",
    "    def apply(self, action: Action):\n",
    "        return self.__class__(self.history + (action,))"
   ]
  },
  {
   "cell_type": "code",
   "execution_count": 160,
   "metadata": {},
   "outputs": [],
   "source": [
    "algo = zs.Algorithm(zs.ESLCFR(100), Ascending)"
   ]
  },
  {
   "cell_type": "code",
   "execution_count": 232,
   "metadata": {},
   "outputs": [
    {
     "name": "stderr",
     "output_type": "stream",
     "text": [
      "  3%|▎         | 2562/100000 [40:55<25:56:43,  1.04it/s]   \n"
     ]
    }
   ],
   "source": [
    "from tqdm import trange\n",
    "\n",
    "\n",
    "try:\n",
    "    for _ in trange(100000):\n",
    "        algo.once()\n",
    "except KeyboardInterrupt:\n",
    "    pass"
   ]
  },
  {
   "cell_type": "code",
   "execution_count": 233,
   "metadata": {},
   "outputs": [
    {
     "data": {
      "text/plain": [
       "42298"
      ]
     },
     "execution_count": 233,
     "metadata": {},
     "output_type": "execute_result"
    }
   ],
   "source": [
    "len(algo.impl.strategies)"
   ]
  },
  {
   "cell_type": "code",
   "execution_count": 234,
   "metadata": {},
   "outputs": [
    {
     "data": {
      "text/plain": [
       "[Bid(bid=3), Bid(bid=5), Bid(bid=6), Bid(bid=7), Bid(bid=8)]"
      ]
     },
     "execution_count": 234,
     "metadata": {},
     "output_type": "execute_result"
    }
   ],
   "source": [
    "from zerosum.game import play\n",
    "\n",
    "g = Ascending.default().apply(Reserve(10)).apply(Reserve(8))\n",
    "\n",
    "list(play(g, algo.impl.strategies))"
   ]
  },
  {
   "cell_type": "code",
   "execution_count": 235,
   "metadata": {},
   "outputs": [],
   "source": [
    "import numpy as np\n",
    "\n",
    "\n",
    "strats = zs.normalize(algo.impl.strategies)\n",
    "\n",
    "table = np.zeros((Ascending.maxreserve, Ascending.maxreserve))\n",
    "for r in range(1, Ascending.maxreserve):\n",
    "    iset = InfoSet(zs.Player(1), r, (5,), ())\n",
    "    s = strats[iset]\n",
    "\n",
    "    for act, p in s.items():\n",
    "        if isinstance(act, Bid):\n",
    "            table[r, act.bid] = p"
   ]
  },
  {
   "cell_type": "code",
   "execution_count": 236,
   "metadata": {},
   "outputs": [
    {
     "data": {
      "text/plain": [
       "<matplotlib.image.AxesImage at 0x167066c20>"
      ]
     },
     "execution_count": 236,
     "metadata": {},
     "output_type": "execute_result"
    },
    {
     "data": {
      "image/png": "[encoded data removed]",
      "text/plain": [
       "<Figure size 480x480 with 1 Axes>"
      ]
     },
     "metadata": {},
     "output_type": "display_data"
    }
   ],
   "source": [
    "import matplotlib.pyplot as plt\n",
    "\n",
    "plt.matshow(table)"
   ]
  }
 ],
 "metadata": {
  "kernelspec": {
   "display_name": "clean",
   "language": "python",
   "name": "python3"
  },
  "language_info": {
   "codemirror_mode": {
    "name": "ipython",
    "version": 3
   },
   "file_extension": ".py",
   "mimetype": "text/x-python",
   "name": "python",
   "nbconvert_exporter": "python",
   "pygments_lexer": "ipython3",
   "version": "3.10.8"
  },
  "orig_nbformat": 4,
  "vscode": {
   "interpreter": {
    "hash": "7ac02b84f0b2c07ad9d596dfc0dd5b68046a23d9882df65ad98f7b44c27b887b"
   }
  }
 },
 "nbformat": 4,
 "nbformat_minor": 2
}
