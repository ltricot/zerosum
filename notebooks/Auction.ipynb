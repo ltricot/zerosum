{
 "cells": [
  {
   "attachments": {},
   "cell_type": "markdown",
   "metadata": {},
   "source": [
    "# Sealed Auctions\n",
    "\n",
    "We first implement the sealed auction game with a fixed number of bidders. Each bidder's reserve price is drawn from a uniform ditrisbution between 1 and some chosen parameter."
   ]
  },
  {
   "cell_type": "code",
   "execution_count": 1,
   "metadata": {},
   "outputs": [],
   "source": [
    "import zerosum as zs"
   ]
  },
  {
   "cell_type": "code",
   "execution_count": 80,
   "metadata": {},
   "outputs": [],
   "source": [
    "from typing import ClassVar, cast\n",
    "from dataclasses import dataclass\n",
    "import random\n",
    "\n",
    "\n",
    "@dataclass(slots=True, frozen=True)\n",
    "class Reserve:\n",
    "    reserve: int\n",
    "\n",
    "\n",
    "@dataclass(slots=True, frozen=True)\n",
    "class Bid:\n",
    "    bid: int\n",
    "\n",
    "\n",
    "Action = Reserve | Bid\n",
    "\n",
    "\n",
    "@dataclass(slots=True, frozen=True)\n",
    "class InfoSet:\n",
    "    reserve: int\n",
    "    bidders: int\n",
    "\n",
    "    def actions(self) -> tuple[Action, ...]:\n",
    "        return tuple(Bid(q) for q in range(0, 1 + self.reserve))\n",
    "\n",
    "\n",
    "def sealed(bidders: int, reserve: int):\n",
    "\n",
    "    @dataclass(slots=True, frozen=True)\n",
    "    class SealedAuction:\n",
    "        players: ClassVar[int] = bidders\n",
    "\n",
    "        history: tuple[Action, ...] = ()\n",
    "\n",
    "        @classmethod\n",
    "        def default(cls):\n",
    "            return cls()\n",
    "\n",
    "        @property\n",
    "        def terminal(self):\n",
    "            return len(self.history) == 2 * bidders\n",
    "\n",
    "        def payoff(self, player: zs.Player):\n",
    "            reserves = [cast(Reserve, reserve).reserve for reserve in self.history[::2]]\n",
    "            bids = [cast(Bid, bid).bid for bid in self.history[1::2]]\n",
    "            argmax = max(range(bidders), key=bids.__getitem__)\n",
    "\n",
    "            if argmax == player:\n",
    "                return reserves[argmax] - bids[argmax]\n",
    "\n",
    "            return 0\n",
    "        \n",
    "        @property\n",
    "        def chance(self) -> bool:\n",
    "            return len(self.history) % 2 == 0\n",
    "        \n",
    "        def chances(self):\n",
    "            raise NotImplementedError\n",
    "        \n",
    "        def sample(self):\n",
    "            return Reserve(random.randint(1, reserve))\n",
    "        \n",
    "        @property\n",
    "        def active(self):\n",
    "            return zs.Player(len(self.history) // 2)\n",
    "\n",
    "        def infoset(self, player: zs.Player):\n",
    "            reserve = cast(Reserve, self.history[-1])\n",
    "            return InfoSet(reserve.reserve, self.players)\n",
    "        \n",
    "        def apply(self, action: Action):\n",
    "            return self.__class__(self.history + (action,))\n",
    "    \n",
    "    return SealedAuction"
   ]
  },
  {
   "attachments": {},
   "cell_type": "markdown",
   "metadata": {},
   "source": [
    "An interesting fact is that CFR does not converge to an optimal strategy for this game. There are no theoretical garantees because the game is multiplayer and not zero sum. However a variant called LCFR converges well."
   ]
  },
  {
   "cell_type": "code",
   "execution_count": 96,
   "metadata": {},
   "outputs": [],
   "source": [
    "game = sealed(1, 5)\n",
    "algo = zs.Algorithm(zs.ESLCFR(10), game)"
   ]
  },
  {
   "cell_type": "code",
   "execution_count": 97,
   "metadata": {},
   "outputs": [
    {
     "name": "stderr",
     "output_type": "stream",
     "text": [
      "100%|██████████| 1000/1000 [00:00<00:00, 18930.44it/s]\n"
     ]
    }
   ],
   "source": [
    "from tqdm import trange\n",
    "\n",
    "for _ in trange(1000):\n",
    "    algo.once()"
   ]
  },
  {
   "cell_type": "code",
   "execution_count": 98,
   "metadata": {},
   "outputs": [
    {
     "data": {
      "text/plain": [
       "{InfoSet(reserve=4, bidders=1): {Bid(bid=0): 94.90415913200708,\n",
       "  Bid(bid=1): 0.0,\n",
       "  Bid(bid=2): 0.0,\n",
       "  Bid(bid=3): 0.0,\n",
       "  Bid(bid=4): 0.0},\n",
       " InfoSet(reserve=2, bidders=1): {Bid(bid=0): 104.32911392405063,\n",
       "  Bid(bid=1): 0.01808318264014469,\n",
       "  Bid(bid=2): 0.01808318264014469},\n",
       " InfoSet(reserve=3, bidders=1): {Bid(bid=0): 102.20298372513562,\n",
       "  Bid(bid=1): 0.0004520795660036167,\n",
       "  Bid(bid=2): 0.0004520795660036167,\n",
       "  Bid(bid=3): 0.0004520795660036167},\n",
       " InfoSet(reserve=1, bidders=1): {Bid(bid=0): 100.65551537070523,\n",
       "  Bid(bid=1): 0.006329113924050631},\n",
       " InfoSet(reserve=5, bidders=1): {Bid(bid=0): 95.34840265220001,\n",
       "  Bid(bid=1): 0.0018083182640144667,\n",
       "  Bid(bid=2): 0.0006027727546714894,\n",
       "  Bid(bid=3): 0.0,\n",
       "  Bid(bid=4): 0.0,\n",
       "  Bid(bid=5): 0.0}}"
      ]
     },
     "execution_count": 98,
     "metadata": {},
     "output_type": "execute_result"
    }
   ],
   "source": [
    "algo.impl.strategies"
   ]
  },
  {
   "cell_type": "code",
   "execution_count": 127,
   "metadata": {},
   "outputs": [],
   "source": [
    "@dataclass(slots=True, frozen=True)\n",
    "class Bidders:\n",
    "    bidders: int\n",
    "\n",
    "\n",
    "@dataclass(slots=True, frozen=True)\n",
    "class RdBidders:\n",
    "    players: ClassVar[int] = 10  # upper bound\n",
    "\n",
    "    @classmethod\n",
    "    def default(cls):\n",
    "        return cls()\n",
    "\n",
    "    @property\n",
    "    def terminal(self):\n",
    "        return False\n",
    "    \n",
    "    def payoff(self, player: zs.Player):\n",
    "        raise NotImplementedError\n",
    "    \n",
    "    @property\n",
    "    def chance(self):\n",
    "        return True\n",
    "    \n",
    "    def chances(self):\n",
    "        raise NotImplementedError\n",
    "    \n",
    "    def sample(self):\n",
    "        return Bidders(random.randint(1, self.players))\n",
    "    \n",
    "    @property\n",
    "    def active(self):\n",
    "        raise NotImplementedError\n",
    "    \n",
    "    def infoset(self, player: zs.Player):\n",
    "        raise NotImplementedError\n",
    "    \n",
    "    def apply(self, action: Bidders):\n",
    "        return sealed(action.bidders, 30).default()"
   ]
  },
  {
   "cell_type": "code",
   "execution_count": 189,
   "metadata": {},
   "outputs": [],
   "source": [
    "algo = zs.Algorithm(zs.ESLCFR(1000), RdBidders)"
   ]
  },
  {
   "cell_type": "code",
   "execution_count": 193,
   "metadata": {},
   "outputs": [
    {
     "name": "stderr",
     "output_type": "stream",
     "text": [
      "100%|██████████| 50000/50000 [03:01<00:00, 275.01it/s]\n"
     ]
    }
   ],
   "source": [
    "try:\n",
    "    for _ in trange(50000):\n",
    "        algo.once()\n",
    "except KeyboardInterrupt:\n",
    "    pass"
   ]
  },
  {
   "cell_type": "code",
   "execution_count": 194,
   "metadata": {},
   "outputs": [],
   "source": [
    "import numpy as np\n",
    "\n",
    "\n",
    "strategies = zs.normalize(algo.impl.strategies)\n",
    "reserve = 25\n",
    "\n",
    "strat = np.empty((RdBidders.players, reserve))\n",
    "for bidders in range(1, RdBidders.players + 1):\n",
    "    for bid, p in strategies[InfoSet(reserve - 1, bidders)].items():\n",
    "        strat[bidders - 1, bid.bid] = p"
   ]
  },
  {
   "cell_type": "code",
   "execution_count": 195,
   "metadata": {},
   "outputs": [
    {
     "data": {
      "text/plain": [
       "<matplotlib.image.AxesImage at 0x11d0d9930>"
      ]
     },
     "execution_count": 195,
     "metadata": {},
     "output_type": "execute_result"
    },
    {
     "data": {
      "image/png": "[encoded data removed]",
      "text/plain": [
       "<Figure size 1200x480 with 1 Axes>"
      ]
     },
     "metadata": {},
     "output_type": "display_data"
    }
   ],
   "source": [
    "import matplotlib.pyplot as plt\n",
    "\n",
    "plt.matshow(strat)"
   ]
  }
 ],
 "metadata": {
  "kernelspec": {
   "display_name": "clean",
   "language": "python",
   "name": "python3"
  },
  "language_info": {
   "codemirror_mode": {
    "name": "ipython",
    "version": 3
   },
   "file_extension": ".py",
   "mimetype": "text/x-python",
   "name": "python",
   "nbconvert_exporter": "python",
   "pygments_lexer": "ipython3",
   "version": "3.10.8"
  },
  "orig_nbformat": 4,
  "vscode": {
   "interpreter": {
    "hash": "7ac02b84f0b2c07ad9d596dfc0dd5b68046a23d9882df65ad98f7b44c27b887b"
   }
  }
 },
 "nbformat": 4,
 "nbformat_minor": 2
}
