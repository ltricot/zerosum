{
 "cells": [
  {
   "cell_type": "code",
   "execution_count": 3,
   "metadata": {},
   "outputs": [],
   "source": [
    "from __future__ import annotations\n",
    "\n",
    "from typing import ClassVar\n",
    "from dataclasses import dataclass\n",
    "import random\n",
    "import enum\n",
    "\n",
    "from zerosum.game import Player, Game\n",
    "\n",
    "\n",
    "class Action(enum.IntEnum):\n",
    "    DRAW1 = 1\n",
    "    DRAW2 = 2\n",
    "    BET = 4\n",
    "    CHECK = 5\n",
    "    CALL = 6\n",
    "    FOLD = 7\n",
    "\n",
    "\n",
    "Card = int\n",
    "\n",
    "\n",
    "@dataclass(slots=True, frozen=True)\n",
    "class InfoSet:\n",
    "    card: Card | None\n",
    "    history: tuple[Action, ...]\n",
    "\n",
    "    def actions(self) -> tuple[Action, ...]:\n",
    "        if len(self.history) == 0:\n",
    "            return (Action.CHECK, Action.BET)\n",
    "        elif len(self.history) == 1:\n",
    "            last = self.history[-1]\n",
    "            if last == Action.BET:\n",
    "                return (Action.CALL, Action.FOLD)\n",
    "            elif last == Action.CHECK:\n",
    "                return (Action.CHECK,)\n",
    "        raise ValueError\n",
    "\n",
    "\n",
    "@dataclass(slots=True, frozen=True)\n",
    "class Bluff:\n",
    "    players: ClassVar[int] = 2\n",
    "\n",
    "    history: tuple[Action, ...] = ()\n",
    "\n",
    "    @classmethod\n",
    "    def default(cls):\n",
    "        return cls()\n",
    "\n",
    "    @property\n",
    "    def terminal(self):\n",
    "        return len(self.history) == 3\n",
    "\n",
    "    def payoff(self, player: Player):\n",
    "        value = 1\n",
    "        if Action.BET in self.history and Action.CALL in self.history:\n",
    "            value = 2\n",
    "\n",
    "        if Action.FOLD in self.history:\n",
    "            return value if 0 == player else -value\n",
    "\n",
    "        if self.history[0] == Action.DRAW1:\n",
    "            value = -value\n",
    "\n",
    "        if player == 1:\n",
    "            value = -value\n",
    "\n",
    "        return value\n",
    "\n",
    "    @property\n",
    "    def chance(self):\n",
    "        return len(self.history) == 0\n",
    "\n",
    "    def chances(self) -> dict[Action, float]:\n",
    "        chances = {Action.DRAW1: 2 / 3, Action.DRAW2: 1 / 3}\n",
    "        return chances\n",
    "\n",
    "    def sample(self) -> Action:\n",
    "        return random.choice(list(self.chances().keys()))\n",
    "\n",
    "    @property\n",
    "    def active(self) -> Player:\n",
    "        if len(self.history) <= 1:\n",
    "            return 0\n",
    "        return 1\n",
    "\n",
    "    def infoset(self, player: Player) -> InfoSet:\n",
    "        return InfoSet(\n",
    "            card=self.history[0] if player == 0 else None,\n",
    "            history=self.history[1:],\n",
    "        )\n",
    "\n",
    "    def apply(self, action: Action):\n",
    "        return self.__class__(self.history + (action,))"
   ]
  },
  {
   "cell_type": "code",
   "execution_count": 4,
   "metadata": {},
   "outputs": [],
   "source": [
    "import zerosum as zs"
   ]
  },
  {
   "cell_type": "code",
   "execution_count": 32,
   "metadata": {},
   "outputs": [],
   "source": [
    "algo = zs.Algorithm(zs.ESLCFR(1000), Bluff)"
   ]
  },
  {
   "cell_type": "code",
   "execution_count": 35,
   "metadata": {},
   "outputs": [],
   "source": [
    "for _ in range(100000):\n",
    "    algo.once()"
   ]
  },
  {
   "cell_type": "code",
   "execution_count": 34,
   "metadata": {},
   "outputs": [
    {
     "data": {
      "text/plain": [
       "{InfoSet(card=<Action.DRAW2: 2>, history=()): {<Action.CHECK: 5>: 0.0,\n",
       "  <Action.BET: 4>: 2547.7570093457944},\n",
       " InfoSet(card=None, history=(<Action.CHECK: 5>,)): {<Action.CHECK: 5>: 5001.149532710281},\n",
       " InfoSet(card=None, history=(<Action.BET: 4>,)): {<Action.CALL: 6>: 3374.860472539911,\n",
       "  <Action.FOLD: 7>: 1626.2890601703557},\n",
       " InfoSet(card=<Action.DRAW1: 1>, history=()): {<Action.CHECK: 5>: 1594.8886924208896,\n",
       "  <Action.BET: 4>: 858.5038309435939}}"
      ]
     },
     "execution_count": 34,
     "metadata": {},
     "output_type": "execute_result"
    }
   ],
   "source": [
    "algo.impl.strategies"
   ]
  },
  {
   "cell_type": "code",
   "execution_count": 1,
   "metadata": {},
   "outputs": [],
   "source": [
    "from zerosum.normal import zerosum\n",
    "import zerosum as zs"
   ]
  },
  {
   "cell_type": "code",
   "execution_count": 2,
   "metadata": {},
   "outputs": [],
   "source": [
    "game = zerosum((\n",
    "    (-2 / 3, 1),\n",
    "    (0, -1 / 3),\n",
    "))"
   ]
  },
  {
   "cell_type": "code",
   "execution_count": 9,
   "metadata": {},
   "outputs": [],
   "source": [
    "algo = zs.Algorithm(zs.ESCFR(), game)"
   ]
  },
  {
   "cell_type": "code",
   "execution_count": 12,
   "metadata": {},
   "outputs": [],
   "source": [
    "for _ in range(50000):\n",
    "    algo.once()"
   ]
  },
  {
   "cell_type": "code",
   "execution_count": 13,
   "metadata": {},
   "outputs": [
    {
     "data": {
      "text/plain": [
       "{InfoSet(player=0, n=2): {0: 5022.254280359624, 1: 25017.7457196403},\n",
       " InfoSet(player=1, n=2): {0: 40386.74249959822, 1: 19693.257500401713}}"
      ]
     },
     "execution_count": 13,
     "metadata": {},
     "output_type": "execute_result"
    }
   ],
   "source": [
    "algo.impl.strategies"
   ]
  }
 ],
 "metadata": {
  "kernelspec": {
   "display_name": "clean",
   "language": "python",
   "name": "python3"
  },
  "language_info": {
   "codemirror_mode": {
    "name": "ipython",
    "version": 3
   },
   "file_extension": ".py",
   "mimetype": "text/x-python",
   "name": "python",
   "nbconvert_exporter": "python",
   "pygments_lexer": "ipython3",
   "version": "3.10.8"
  },
  "orig_nbformat": 4,
  "vscode": {
   "interpreter": {
    "hash": "7ac02b84f0b2c07ad9d596dfc0dd5b68046a23d9882df65ad98f7b44c27b887b"
   }
  }
 },
 "nbformat": 4,
 "nbformat_minor": 2
}
