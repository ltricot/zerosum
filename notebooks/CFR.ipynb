{
 "cells": [
  {
   "cell_type": "code",
   "execution_count": 1,
   "metadata": {},
   "outputs": [],
   "source": [
    "from typing import cast\n",
    "\n",
    "from cfrpy.rps.game import RPS\n",
    "from cfrpy.kuhn.game import Kuhn\n",
    "from cfrpy.kuhn.abstraction import Kuhn as KuhnAbstraction\n",
    "from cfrpy.escfr import eswalk\n",
    "from cfrpy.cfrplus import eswalkplus\n",
    "from cfrpy.cfr import walk\n",
    "from cfrpy.game import Player, mc"
   ]
  },
  {
   "cell_type": "code",
   "execution_count": 4,
   "metadata": {},
   "outputs": [],
   "source": [
    "regrets = {}\n",
    "strategies = {}\n",
    "\n",
    "for t in range(1000):\n",
    "    for i in range(2):\n",
    "       eswalkplus(Kuhn(), cast(Player, i), regrets, strategies, t)"
   ]
  },
  {
   "cell_type": "code",
   "execution_count": 5,
   "metadata": {},
   "outputs": [
    {
     "data": {
      "text/plain": [
       "{InfoSet(player=0, card=3, history=()): {<Action.CHECK: 5>: 0.4187415751316315,\n",
       "  <Action.BET: 4>: 0.5812584248683687,\n",
       "  <Action.FOLD: 7>: 0.0},\n",
       " InfoSet(player=1, card=1, history=(<Action.CHECK: 5>,)): {<Action.BET: 4>: 0.3357245086412569,\n",
       "  <Action.CHECK: 5>: 0.6642754913587431},\n",
       " InfoSet(player=0, card=3, history=(<Action.CHECK: 5>, <Action.BET: 4>)): {<Action.CALL: 6>: 1.0,\n",
       "  <Action.FOLD: 7>: 0.0},\n",
       " InfoSet(player=1, card=1, history=(<Action.BET: 4>,)): {<Action.CALL: 6>: 5.3898568567489515e-05,\n",
       "  <Action.FOLD: 7>: 0.9999461014314325},\n",
       " InfoSet(player=1, card=2, history=(<Action.BET: 4>,)): {<Action.CALL: 6>: 0.3756566959038697,\n",
       "  <Action.FOLD: 7>: 0.6243433040961304},\n",
       " InfoSet(player=0, card=1, history=()): {<Action.CHECK: 5>: 0.4108274686907169,\n",
       "  <Action.BET: 4>: 0.1783450626185662,\n",
       "  <Action.FOLD: 7>: 0.4108274686907169},\n",
       " InfoSet(player=1, card=3, history=(<Action.CHECK: 5>,)): {<Action.BET: 4>: 1.0,\n",
       "  <Action.CHECK: 5>: 0.0},\n",
       " InfoSet(player=0, card=1, history=(<Action.CHECK: 5>, <Action.BET: 4>)): {<Action.CALL: 6>: 7.352076226326315e-06,\n",
       "  <Action.FOLD: 7>: 0.9999926479237736},\n",
       " InfoSet(player=1, card=2, history=(<Action.CHECK: 5>,)): {<Action.BET: 4>: 6.660805158127514e-06,\n",
       "  <Action.CHECK: 5>: 0.9999933391948419},\n",
       " InfoSet(player=0, card=2, history=()): {<Action.CHECK: 5>: 0.8939465891727713,\n",
       "  <Action.BET: 4>: 0.08081056143612317,\n",
       "  <Action.FOLD: 7>: 0.02524284939110572},\n",
       " InfoSet(player=0, card=2, history=(<Action.CHECK: 5>, <Action.BET: 4>)): {<Action.CALL: 6>: 0.45300644968898135,\n",
       "  <Action.FOLD: 7>: 0.5469935503110186},\n",
       " InfoSet(player=1, card=3, history=(<Action.BET: 4>,)): {<Action.CALL: 6>: 0.9999740051181034,\n",
       "  <Action.FOLD: 7>: 2.5994881896586582e-05}}"
      ]
     },
     "execution_count": 5,
     "metadata": {},
     "output_type": "execute_result"
    }
   ],
   "source": [
    "ss = {\n",
    "    infoset: {\n",
    "        action: regret / sum(strategy.values())\n",
    "        for action, regret in strategy.items()\n",
    "    }\n",
    "    for infoset, strategy in strategies.items()\n",
    "}\n",
    "\n",
    "ss"
   ]
  },
  {
   "cell_type": "code",
   "execution_count": 12,
   "metadata": {},
   "outputs": [],
   "source": [
    "regrets = {}\n",
    "strategies = {}\n",
    "\n",
    "for t in range(3000):\n",
    "    for i in range(2):\n",
    "       walk(Kuhn(), cast(Player, i), 1, 1, regrets, strategies, 1)"
   ]
  },
  {
   "cell_type": "code",
   "execution_count": 13,
   "metadata": {},
   "outputs": [
    {
     "data": {
      "text/plain": [
       "{InfoSet(player=0, card=1, history=()): {<Action.CHECK: 5>: 0.38930729933392205,\n",
       "  <Action.BET: 4>: 0.21667564047699903,\n",
       "  <Action.FOLD: 7>: 0.3940170601890789},\n",
       " InfoSet(player=1, card=2, history=(<Action.CHECK: 5>,)): {<Action.BET: 4>: 0.00016666666666666666,\n",
       "  <Action.CHECK: 5>: 0.9998333333333334},\n",
       " InfoSet(player=0, card=1, history=(<Action.CHECK: 5>, <Action.BET: 4>)): {<Action.CALL: 6>: 7.13518031264855e-05,\n",
       "  <Action.FOLD: 7>: 0.9999286481968735},\n",
       " InfoSet(player=1, card=2, history=(<Action.BET: 4>,)): {<Action.CALL: 6>: 0.3421481124490674,\n",
       "  <Action.FOLD: 7>: 0.6578518875509326},\n",
       " InfoSet(player=1, card=3, history=(<Action.CHECK: 5>,)): {<Action.BET: 4>: 0.9996666666666667,\n",
       "  <Action.CHECK: 5>: 0.0003333333333333333},\n",
       " InfoSet(player=1, card=3, history=(<Action.BET: 4>,)): {<Action.CALL: 6>: 0.9999166666666667,\n",
       "  <Action.FOLD: 7>: 8.333333333333333e-05},\n",
       " InfoSet(player=0, card=2, history=()): {<Action.CHECK: 5>: 0.9952407997018015,\n",
       "  <Action.BET: 4>: 0.004703644742643039,\n",
       "  <Action.FOLD: 7>: 5.555555555555555e-05},\n",
       " InfoSet(player=1, card=1, history=(<Action.CHECK: 5>,)): {<Action.BET: 4>: 0.3410433621268626,\n",
       "  <Action.CHECK: 5>: 0.6589566378731374},\n",
       " InfoSet(player=0, card=2, history=(<Action.CHECK: 5>, <Action.BET: 4>)): {<Action.CALL: 6>: 0.5517062044232981,\n",
       "  <Action.FOLD: 7>: 0.4482937955767019},\n",
       " InfoSet(player=1, card=1, history=(<Action.BET: 4>,)): {<Action.CALL: 6>: 8.333333333333333e-05,\n",
       "  <Action.FOLD: 7>: 0.9999166666666667},\n",
       " InfoSet(player=0, card=3, history=()): {<Action.CHECK: 5>: 0.3700737993937751,\n",
       "  <Action.BET: 4>: 0.6298706450506693,\n",
       "  <Action.FOLD: 7>: 5.5555555555555524e-05},\n",
       " InfoSet(player=0, card=3, history=(<Action.CHECK: 5>, <Action.BET: 4>)): {<Action.CALL: 6>: 0.9999249398962498,\n",
       "  <Action.FOLD: 7>: 7.506010375033594e-05}}"
      ]
     },
     "execution_count": 13,
     "metadata": {},
     "output_type": "execute_result"
    }
   ],
   "source": [
    "ss = {\n",
    "    infoset: {\n",
    "        action: regret / sum(strategy.values())\n",
    "        for action, regret in strategy.items()\n",
    "    }\n",
    "    for infoset, strategy in strategies.items()\n",
    "}\n",
    "\n",
    "ss"
   ]
  }
 ],
 "metadata": {
  "kernelspec": {
   "display_name": "clean",
   "language": "python",
   "name": "python3"
  },
  "language_info": {
   "codemirror_mode": {
    "name": "ipython",
    "version": 3
   },
   "file_extension": ".py",
   "mimetype": "text/x-python",
   "name": "python",
   "nbconvert_exporter": "python",
   "pygments_lexer": "ipython3",
   "version": "3.10.8"
  },
  "orig_nbformat": 4,
  "vscode": {
   "interpreter": {
    "hash": "7ac02b84f0b2c07ad9d596dfc0dd5b68046a23d9882df65ad98f7b44c27b887b"
   }
  }
 },
 "nbformat": 4,
 "nbformat_minor": 2
}
