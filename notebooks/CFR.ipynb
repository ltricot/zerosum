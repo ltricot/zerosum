{
 "cells": [
  {
   "cell_type": "code",
   "execution_count": 71,
   "metadata": {},
   "outputs": [],
   "source": [
    "from typing import cast\n",
    "\n",
    "from cfr.kuhn.game import Kuhn\n",
    "from cfr.kuhn.abstraction import Kuhn as KuhnAbstraction\n",
    "from cfr.escfr import eswalk\n",
    "from cfr.cfr import walk\n",
    "from cfr.game import Player, mc"
   ]
  },
  {
   "cell_type": "code",
   "execution_count": 72,
   "metadata": {},
   "outputs": [],
   "source": [
    "regrets = {}\n",
    "strategies = {}\n",
    "\n",
    "for _ in range(100):\n",
    "    for i in range(2):\n",
    "        walk(KuhnAbstraction(), cast(Player, i), 1, 1, regrets, strategies, 1)"
   ]
  },
  {
   "cell_type": "code",
   "execution_count": 73,
   "metadata": {},
   "outputs": [],
   "source": [
    "for _ in range(100):\n",
    "    abstract = KuhnAbstraction()\n",
    "    for action in mc(Kuhn()):\n",
    "        abstract = abstract.apply(action)\n",
    "\n",
    "        if abstract.chance or abstract.terminal:\n",
    "            continue\n",
    "\n",
    "        infoset = abstract.infoset(abstract.active)\n",
    "        if infoset not in strategies:\n",
    "            print(infoset)\n",
    "            break"
   ]
  },
  {
   "cell_type": "code",
   "execution_count": 74,
   "metadata": {},
   "outputs": [
    {
     "data": {
      "text/plain": [
       "{InfoSet(_infoset=InfoSet(player=0, card=1, history=())): {<Action.CHECK: 5>: 0.406029411764705,\n",
       "  <Action.BET: 4>: 0.013749999999999974,\n",
       "  <Action.FOLD: 7>: 0.580220588235295},\n",
       " InfoSet(_infoset=InfoSet(player=1, card=2, history=(<Action.CHECK: 5>,))): {<Action.BET: 4>: 0.518829539942721,\n",
       "  <Action.CHECK: 5>: 0.4811704600572791},\n",
       " InfoSet(_infoset=InfoSet(player=0, card=1, history=(<Action.CHECK: 5>, <Action.BET: 4>))): {<Action.CALL: 6>: 0.002052396474707233,\n",
       "  <Action.FOLD: 7>: 0.9979476035252927},\n",
       " InfoSet(_infoset=InfoSet(player=1, card=2, history=(<Action.BET: 4>,))): {<Action.CALL: 6>: 0.99875,\n",
       "  <Action.FOLD: 7>: 0.00125},\n",
       " InfoSet(_infoset=InfoSet(player=0, card=2, history=())): {<Action.CHECK: 5>: 0.44088819569019794,\n",
       "  <Action.BET: 4>: 0.5582784709764689,\n",
       "  <Action.FOLD: 7>: 0.0008333333333333332},\n",
       " InfoSet(_infoset=InfoSet(player=1, card=1, history=(<Action.CHECK: 5>,))): {<Action.BET: 4>: 0.0075,\n",
       "  <Action.CHECK: 5>: 0.9925},\n",
       " InfoSet(_infoset=InfoSet(player=0, card=2, history=(<Action.CHECK: 5>, <Action.BET: 4>))): {<Action.CALL: 6>: 0.9990549380302315,\n",
       "  <Action.FOLD: 7>: 0.0009450619697685187},\n",
       " InfoSet(_infoset=InfoSet(player=1, card=1, history=(<Action.BET: 4>,))): {<Action.CALL: 6>: 0.0025,\n",
       "  <Action.FOLD: 7>: 0.9975}}"
      ]
     },
     "execution_count": 74,
     "metadata": {},
     "output_type": "execute_result"
    }
   ],
   "source": [
    "ss = {\n",
    "    infoset: {\n",
    "        action: regret / sum(strategy.values())\n",
    "        for action, regret in strategy.items()\n",
    "    }\n",
    "    for infoset, strategy in strategies.items()\n",
    "}\n",
    "\n",
    "ss"
   ]
  }
 ],
 "metadata": {
  "kernelspec": {
   "display_name": "clean",
   "language": "python",
   "name": "python3"
  },
  "language_info": {
   "codemirror_mode": {
    "name": "ipython",
    "version": 3
   },
   "file_extension": ".py",
   "mimetype": "text/x-python",
   "name": "python",
   "nbconvert_exporter": "python",
   "pygments_lexer": "ipython3",
   "version": "3.10.8 | packaged by conda-forge | (main, Nov 22 2022, 08:25:29) [Clang 14.0.6 ]"
  },
  "orig_nbformat": 4,
  "vscode": {
   "interpreter": {
    "hash": "7ac02b84f0b2c07ad9d596dfc0dd5b68046a23d9882df65ad98f7b44c27b887b"
   }
  }
 },
 "nbformat": 4,
 "nbformat_minor": 2
}
