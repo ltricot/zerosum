{
 "cells": [
  {
   "cell_type": "code",
   "execution_count": 1,
   "metadata": {},
   "outputs": [],
   "source": [
    "import zerosum as zs\n",
    "\n",
    "from typing import cast\n",
    "from dataclasses import dataclass, replace\n",
    "from itertools import islice\n",
    "import random"
   ]
  },
  {
   "cell_type": "code",
   "execution_count": 2,
   "metadata": {},
   "outputs": [],
   "source": [
    "@dataclass(slots=True, frozen=True)\n",
    "class Init:\n",
    "    means: tuple[float, ...]\n",
    "\n",
    "\n",
    "@dataclass(slots=True, frozen=True)\n",
    "class Choice:\n",
    "    arm: int\n",
    "\n",
    "\n",
    "@dataclass(slots=True, frozen=True)\n",
    "class Reward:\n",
    "    reward: float\n",
    "\n",
    "\n",
    "Action = Init | Reward | Choice\n",
    "\n",
    "\n",
    "@dataclass(slots=True, frozen=True)\n",
    "class InfoSet:\n",
    "    player: zs.Player\n",
    "    round: int\n",
    "    arms: int\n",
    "    history: tuple[Action, ...]\n",
    "\n",
    "    def actions(self):\n",
    "        return tuple(Choice(i) for i in range(self.arms))\n",
    "\n",
    "\n",
    "@dataclass(slots=True, frozen=True)\n",
    "class Learn:\n",
    "    rounds: int\n",
    "    arms: int\n",
    "\n",
    "    round: int = 0\n",
    "    history: tuple[Action, ...] = ()\n",
    "\n",
    "    @property\n",
    "    def means(self):\n",
    "        return cast(Init, self.history[0]).means\n",
    "\n",
    "    @property\n",
    "    def terminal(self):\n",
    "        return self.round >= self.rounds\n",
    "\n",
    "    def payoff(self, player: zs.Player):\n",
    "        s0 = islice(self.history, 2, None, 4)\n",
    "        s1 = islice(self.history, 4, None, 4)\n",
    "\n",
    "        score = 0\n",
    "        for a0, a1 in zip(s0, s1):\n",
    "            a0 = cast(Reward, a0)\n",
    "            a1 = cast(Reward, a1)\n",
    "            score += a0.reward - a1.reward\n",
    "\n",
    "        return score if player == 0 else -score\n",
    "\n",
    "    @property\n",
    "    def chance(self):\n",
    "        return len(self.history) % 2 == 0\n",
    "\n",
    "    def chances(self):\n",
    "        raise NotImplementedError\n",
    "    \n",
    "    def _init(self):\n",
    "        means = tuple(random.random() for _ in range(self.arms))\n",
    "        return Init(means)\n",
    "\n",
    "    def sample(self) -> Action:\n",
    "        if len(self.history) == 0:\n",
    "            return self._init()\n",
    "\n",
    "        *_, action = self.history\n",
    "        action = cast(Choice, action)\n",
    "        if random.random() > self.means[action.arm]:\n",
    "            return Reward(1)\n",
    "        return Reward(0)\n",
    "\n",
    "    @property\n",
    "    def active(self) -> zs.Player:\n",
    "        if len(self.history) % 4 == 1:\n",
    "            return zs.Player(0)\n",
    "        return zs.Player(1)\n",
    "\n",
    "    def infoset(self, player: zs.Player):\n",
    "        return InfoSet(self.active, self.round, self.arms, self.history)\n",
    "\n",
    "    def apply(self, action: Action):\n",
    "        round = self.round\n",
    "        if isinstance(action, Reward):\n",
    "            round = self.round + 1\n",
    "        return replace(self, round=round, history=self.history + (action,))\n",
    "\n",
    "\n",
    "_: zs.Game[Action, InfoSet] = Learn(0, 3)"
   ]
  },
  {
   "cell_type": "code",
   "execution_count": 3,
   "metadata": {},
   "outputs": [],
   "source": [
    "def game():\n",
    "    return Learn(3, 3)\n",
    "\n",
    "\n",
    "impl = zs.ESLCFR(1000)\n",
    "algo = zs.Algorithm(impl, game)"
   ]
  },
  {
   "cell_type": "code",
   "execution_count": 4,
   "metadata": {},
   "outputs": [
    {
     "name": "stderr",
     "output_type": "stream",
     "text": [
      "100%|██████████| 1000/1000 [00:00<00:00, 1089.03it/s]\n"
     ]
    }
   ],
   "source": [
    "from tqdm import tqdm\n",
    "\n",
    "\n",
    "for _ in tqdm(range(1000)):\n",
    "    algo.once()"
   ]
  },
  {
   "cell_type": "code",
   "execution_count": 5,
   "metadata": {},
   "outputs": [
    {
     "data": {
      "text/plain": [
       "12000"
      ]
     },
     "execution_count": 5,
     "metadata": {},
     "output_type": "execute_result"
    }
   ],
   "source": [
    "len(impl.strategies)"
   ]
  },
  {
   "cell_type": "code",
   "execution_count": 6,
   "metadata": {},
   "outputs": [],
   "source": [
    "@zs.algebraic\n",
    "def player(infoset: zs.InfoSet):\n",
    "    return cast(InfoSet, infoset).player\n",
    "\n",
    "\n",
    "@zs.algebraic\n",
    "def ground(infoset: zs.InfoSet):\n",
    "    return cast(InfoSet, infoset).round\n",
    "\n",
    "\n",
    "def aggregate(buckets: int):\n",
    "    @zs.algebraic\n",
    "    def aggregate(infoset: zs.InfoSet):\n",
    "        infoset = cast(InfoSet, infoset)\n",
    "        means = [0.0] * infoset.arms\n",
    "        ns = [0] * infoset.arms\n",
    "\n",
    "        for choice, action in zip(infoset.history[1::2], infoset.history[2::2]):\n",
    "            arm = cast(Choice, choice).arm\n",
    "            reward = cast(Reward, action).reward\n",
    "\n",
    "            means[arm] = (reward + means[arm] * ns[arm]) / (ns[arm] + 1)\n",
    "            ns[arm] += 1\n",
    "        \n",
    "        return tuple(round(m * buckets) for m in means)\n",
    "    return aggregate\n",
    "\n",
    "\n",
    "@zs.algebraic\n",
    "def chosen(infoset: zs.InfoSet):\n",
    "    infoset = cast(InfoSet, infoset)\n",
    "\n",
    "    arms = [0] * infoset.arms\n",
    "    for choice in infoset.history[1::2]:\n",
    "        arm = cast(Choice, choice).arm\n",
    "        arms[arm] += 1\n",
    "\n",
    "    return tuple(arms)\n",
    "\n",
    "def actions(infoset: zs.InfoSet):\n",
    "    return infoset.actions()\n",
    "\n",
    "\n",
    "def abstract(buckets: int):\n",
    "    @zs.abstract(Learn, player * ground * aggregate(buckets) * chosen, actions)\n",
    "    class Abstraction(Learn):\n",
    "        ...\n",
    "\n",
    "    return Abstraction"
   ]
  },
  {
   "cell_type": "code",
   "execution_count": 13,
   "metadata": {},
   "outputs": [],
   "source": [
    "abstraction = cast(type[Learn], abstract(3))\n",
    "\n",
    "def game(rounds: int = 5, arms: int = 2):\n",
    "    return abstraction(rounds, arms)\n",
    "\n",
    "\n",
    "impl = zs.ESCFRP()\n",
    "algo = zs.Algorithm(impl, game)"
   ]
  },
  {
   "cell_type": "code",
   "execution_count": 15,
   "metadata": {},
   "outputs": [
    {
     "name": "stderr",
     "output_type": "stream",
     "text": [
      "100%|██████████| 1000/1000 [00:02<00:00, 463.88it/s]\n"
     ]
    }
   ],
   "source": [
    "for _ in tqdm(range(1000)):\n",
    "    algo.once()"
   ]
  },
  {
   "cell_type": "code",
   "execution_count": 16,
   "metadata": {},
   "outputs": [
    {
     "data": {
      "text/plain": [
       "68"
      ]
     },
     "execution_count": 16,
     "metadata": {},
     "output_type": "execute_result"
    }
   ],
   "source": [
    "len(impl.strategies)"
   ]
  },
  {
   "cell_type": "code",
   "execution_count": 17,
   "metadata": {},
   "outputs": [
    {
     "data": {
      "text/plain": [
       "{(0, 0, (0, 0), (0, 0)): {Choice(arm=0): 0.5019947757363732,\n",
       "  Choice(arm=1): 0.49800522426362687},\n",
       " (1, 1, (3, 0), (1, 0)): {Choice(arm=0): 0.9077851208966068,\n",
       "  Choice(arm=1): 0.09221487910339317},\n",
       " (0, 2, (3, 3), (1, 1)): {Choice(arm=0): 0.8265288012904325,\n",
       "  Choice(arm=1): 0.17347119870956762},\n",
       " (1, 3, (3, 3), (2, 1)): {Choice(arm=0): 0.8227921780938728,\n",
       "  Choice(arm=1): 0.17720782190612724},\n",
       " (0, 4, (3, 3), (2, 2)): {Choice(arm=0): 0.5, Choice(arm=1): 0.5},\n",
       " (1, 3, (3, 3), (1, 2)): {Choice(arm=0): 0.1574802924564671,\n",
       "  Choice(arm=1): 0.842519707543533},\n",
       " (1, 1, (0, 3), (0, 1)): {Choice(arm=0): 0.07618676805689943,\n",
       "  Choice(arm=1): 0.9238132319431006},\n",
       " (0, 4, (2, 3), (3, 1)): {Choice(arm=0): 0.5, Choice(arm=1): 0.5},\n",
       " (1, 3, (2, 3), (2, 1)): {Choice(arm=0): 0.061903037295513094,\n",
       "  Choice(arm=1): 0.938096962704487},\n",
       " (0, 4, (2, 2), (2, 2)): {Choice(arm=0): 0.5, Choice(arm=1): 0.5},\n",
       " (0, 2, (0, 3), (0, 2)): {Choice(arm=0): 0.026911018302259365,\n",
       "  Choice(arm=1): 0.9730889816977407},\n",
       " (1, 3, (0, 3), (1, 2)): {Choice(arm=0): 0.01654978785290499,\n",
       "  Choice(arm=1): 0.983450212147095},\n",
       " (0, 4, (2, 3), (2, 2)): {Choice(arm=0): 0.5, Choice(arm=1): 0.5},\n",
       " (0, 4, (0, 3), (1, 3)): {Choice(arm=0): 0.5, Choice(arm=1): 0.5},\n",
       " (0, 2, (3, 0), (2, 0)): {Choice(arm=0): 0.9621856063723476,\n",
       "  Choice(arm=1): 0.03781439362765239},\n",
       " (1, 3, (3, 0), (3, 0)): {Choice(arm=0): 0.9463042836538875,\n",
       "  Choice(arm=1): 0.05369571634611249},\n",
       " (0, 4, (2, 0), (4, 0)): {Choice(arm=0): 0.5, Choice(arm=1): 0.5},\n",
       " (1, 3, (3, 0), (2, 1)): {Choice(arm=0): 0.9824159681504601,\n",
       "  Choice(arm=1): 0.017584031849539928},\n",
       " (0, 4, (3, 0), (2, 2)): {Choice(arm=0): 0.5, Choice(arm=1): 0.5},\n",
       " (1, 1, (0, 0), (0, 1)): {Choice(arm=0): 0.9406018541243695,\n",
       "  Choice(arm=1): 0.05939814587563054},\n",
       " (0, 2, (3, 0), (1, 1)): {Choice(arm=0): 0.971743464944298,\n",
       "  Choice(arm=1): 0.028256535055701953},\n",
       " (1, 3, (2, 0), (2, 1)): {Choice(arm=0): 0.9543758930516751,\n",
       "  Choice(arm=1): 0.04562410694832497},\n",
       " (0, 4, (2, 0), (2, 2)): {Choice(arm=0): 0.5, Choice(arm=1): 0.5},\n",
       " (1, 3, (3, 0), (1, 2)): {Choice(arm=0): 0.9784134101650283,\n",
       "  Choice(arm=1): 0.02158658983497184},\n",
       " (0, 4, (3, 0), (1, 3)): {Choice(arm=0): 0.5, Choice(arm=1): 0.5},\n",
       " (1, 1, (0, 0), (1, 0)): {Choice(arm=0): 0.07411608861868481,\n",
       "  Choice(arm=1): 0.9258839113813152},\n",
       " (0, 2, (0, 0), (2, 0)): {Choice(arm=0): 0.05951265212417115,\n",
       "  Choice(arm=1): 0.940487347875829},\n",
       " (1, 3, (1, 0), (3, 0)): {Choice(arm=0): 0.12296511356475581,\n",
       "  Choice(arm=1): 0.8770348864352441},\n",
       " (0, 4, (1, 0), (4, 0)): {Choice(arm=0): 0.5, Choice(arm=1): 0.5},\n",
       " (0, 4, (1, 0), (3, 1)): {Choice(arm=0): 0.5, Choice(arm=1): 0.5},\n",
       " (0, 2, (0, 3), (1, 1)): {Choice(arm=0): 0.023757842475570248,\n",
       "  Choice(arm=1): 0.9762421575244297},\n",
       " (1, 3, (0, 2), (1, 2)): {Choice(arm=0): 0.07188601955400795,\n",
       "  Choice(arm=1): 0.928113980445992},\n",
       " (0, 4, (0, 1), (1, 3)): {Choice(arm=0): 0.5, Choice(arm=1): 0.5},\n",
       " (0, 4, (3, 0), (3, 1)): {Choice(arm=0): 0.5, Choice(arm=1): 0.5},\n",
       " (0, 2, (0, 2), (0, 2)): {Choice(arm=0): 0.5805087252183156,\n",
       "  Choice(arm=1): 0.41949127478168424},\n",
       " (1, 3, (3, 2), (1, 2)): {Choice(arm=0): 0.8677148465603755,\n",
       "  Choice(arm=1): 0.13228515343962463},\n",
       " (1, 3, (0, 1), (0, 3)): {Choice(arm=0): 0.7491837181961036,\n",
       "  Choice(arm=1): 0.25081628180389637},\n",
       " (0, 4, (3, 1), (1, 3)): {Choice(arm=0): 0.5, Choice(arm=1): 0.5},\n",
       " (0, 2, (2, 0), (2, 0)): {Choice(arm=0): 0.5291241647006918,\n",
       "  Choice(arm=1): 0.4708758352993083},\n",
       " (1, 3, (2, 0), (3, 0)): {Choice(arm=0): 0.9092359458994616,\n",
       "  Choice(arm=1): 0.09076405410053838},\n",
       " (1, 3, (0, 3), (2, 1)): {Choice(arm=0): 0.021825829423447466,\n",
       "  Choice(arm=1): 0.9781741705765525},\n",
       " (0, 4, (1, 3), (3, 1)): {Choice(arm=0): 0.5, Choice(arm=1): 0.5},\n",
       " (0, 4, (0, 3), (2, 2)): {Choice(arm=0): 0.5, Choice(arm=1): 0.5},\n",
       " (0, 4, (3, 3), (3, 1)): {Choice(arm=0): 0.5, Choice(arm=1): 0.5},\n",
       " (0, 4, (3, 3), (1, 3)): {Choice(arm=0): 0.5, Choice(arm=1): 0.5},\n",
       " (1, 3, (0, 3), (0, 3)): {Choice(arm=0): 0.03249444207725541,\n",
       "  Choice(arm=1): 0.9675055579227445},\n",
       " (0, 4, (3, 0), (4, 0)): {Choice(arm=0): 0.5, Choice(arm=1): 0.5},\n",
       " (0, 4, (3, 2), (2, 2)): {Choice(arm=0): 0.5, Choice(arm=1): 0.5},\n",
       " (0, 2, (0, 0), (1, 1)): {Choice(arm=0): 0.7206977963440767,\n",
       "  Choice(arm=1): 0.27930220365592334},\n",
       " (0, 4, (2, 0), (3, 1)): {Choice(arm=0): 0.5, Choice(arm=1): 0.5},\n",
       " (1, 3, (0, 0), (1, 2)): {Choice(arm=0): 0.8992954877508216,\n",
       "  Choice(arm=1): 0.10070451224917837},\n",
       " (1, 3, (0, 0), (2, 1)): {Choice(arm=0): 0.1336226122940116,\n",
       "  Choice(arm=1): 0.8663773877059885},\n",
       " (0, 4, (0, 0), (2, 2)): {Choice(arm=0): 0.5, Choice(arm=1): 0.5},\n",
       " (0, 4, (0, 0), (3, 1)): {Choice(arm=0): 0.5, Choice(arm=1): 0.5},\n",
       " (0, 4, (0, 2), (2, 2)): {Choice(arm=0): 0.5, Choice(arm=1): 0.5},\n",
       " (1, 3, (0, 0), (3, 0)): {Choice(arm=0): 0.0832046243714252,\n",
       "  Choice(arm=1): 0.9167953756285747},\n",
       " (0, 4, (0, 0), (4, 0)): {Choice(arm=0): 0.5, Choice(arm=1): 0.5},\n",
       " (0, 2, (0, 0), (0, 2)): {Choice(arm=0): 0.9214549657100556,\n",
       "  Choice(arm=1): 0.07854503428994451},\n",
       " (0, 4, (0, 0), (1, 3)): {Choice(arm=0): 0.5, Choice(arm=1): 0.5},\n",
       " (0, 4, (0, 1), (0, 4)): {Choice(arm=0): 0.5, Choice(arm=1): 0.5},\n",
       " (1, 3, (0, 2), (0, 3)): {Choice(arm=0): 0.1164081161291835,\n",
       "  Choice(arm=1): 0.8835918838708164},\n",
       " (0, 4, (0, 2), (0, 4)): {Choice(arm=0): 0.5, Choice(arm=1): 0.5},\n",
       " (0, 4, (3, 2), (1, 3)): {Choice(arm=0): 0.5, Choice(arm=1): 0.5},\n",
       " (0, 4, (0, 3), (0, 4)): {Choice(arm=0): 0.5, Choice(arm=1): 0.5},\n",
       " (1, 3, (0, 0), (0, 3)): {Choice(arm=0): 0.9069795251288675,\n",
       "  Choice(arm=1): 0.09302047487113249},\n",
       " (0, 4, (0, 2), (1, 3)): {Choice(arm=0): 0.5, Choice(arm=1): 0.5},\n",
       " (0, 4, (0, 0), (0, 4)): {Choice(arm=0): 0.5, Choice(arm=1): 0.5},\n",
       " (0, 4, (0, 3), (3, 1)): {Choice(arm=0): 0.5, Choice(arm=1): 0.5}}"
      ]
     },
     "execution_count": 17,
     "metadata": {},
     "output_type": "execute_result"
    }
   ],
   "source": [
    "zs.normalize(impl.strategies)"
   ]
  }
 ],
 "metadata": {
  "kernelspec": {
   "display_name": "clean",
   "language": "python",
   "name": "python3"
  },
  "language_info": {
   "codemirror_mode": {
    "name": "ipython",
    "version": 3
   },
   "file_extension": ".py",
   "mimetype": "text/x-python",
   "name": "python",
   "nbconvert_exporter": "python",
   "pygments_lexer": "ipython3",
   "version": "3.10.8"
  },
  "orig_nbformat": 4,
  "vscode": {
   "interpreter": {
    "hash": "7ac02b84f0b2c07ad9d596dfc0dd5b68046a23d9882df65ad98f7b44c27b887b"
   }
  }
 },
 "nbformat": 4,
 "nbformat_minor": 2
}
