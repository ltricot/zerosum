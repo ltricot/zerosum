{
 "cells": [
  {
   "attachments": {},
   "cell_type": "markdown",
   "metadata": {},
   "source": [
    "# Learning to learn\n",
    "\n",
    "We explore the bandit problem by representing it as an imperfect information game and solving it with a counterfactual regret minimization algorithm."
   ]
  },
  {
   "cell_type": "code",
   "execution_count": 19,
   "metadata": {},
   "outputs": [],
   "source": [
    "import zerosum as zs\n",
    "\n",
    "from typing import cast\n",
    "from dataclasses import dataclass, replace\n",
    "from itertools import islice, chain\n",
    "import random"
   ]
  },
  {
   "attachments": {},
   "cell_type": "markdown",
   "metadata": {},
   "source": [
    "## The bandit game\n",
    "\n",
    "The bandit player chooses from a set of arms at each round, and receives a reward from the arm chosen. The reward is drawn from a distribution that depends on the arm chosen. The player's goal is to maximize their reward. The number of rounds is fixed before-hand.\n",
    "\n",
    "Our framework can currently only handle zero-sum two player games. We therefore study an alternative problem where two players play the game simultaneously. They do not share information. The payoff of each player is adjusted by the payoff of their opponent."
   ]
  },
  {
   "cell_type": "code",
   "execution_count": 75,
   "metadata": {},
   "outputs": [],
   "source": [
    "@dataclass(slots=True, frozen=True)\n",
    "class Init:\n",
    "    means: tuple[float, ...]\n",
    "\n",
    "\n",
    "@dataclass(slots=True, frozen=True)\n",
    "class Choice:\n",
    "    arm: int\n",
    "\n",
    "\n",
    "@dataclass(slots=True, frozen=True)\n",
    "class Reward:\n",
    "    reward: float\n",
    "\n",
    "\n",
    "Action = Init | Reward | Choice\n",
    "\n",
    "\n",
    "@dataclass(slots=True, frozen=True)\n",
    "class InfoSet:\n",
    "    round: int\n",
    "    arms: int\n",
    "    history: tuple[Action, ...]\n",
    "\n",
    "    def actions(self):\n",
    "        return tuple(Choice(i) for i in range(self.arms))\n",
    "\n",
    "\n",
    "@dataclass(slots=True, frozen=True)\n",
    "class Learn:\n",
    "    rounds: int\n",
    "    arms: int\n",
    "\n",
    "    round: int = 0\n",
    "    history: tuple[Action, ...] = ()\n",
    "\n",
    "    @property\n",
    "    def means(self):\n",
    "        return cast(Init, self.history[0]).means\n",
    "\n",
    "    @property\n",
    "    def terminal(self):\n",
    "        return self.round >= self.rounds\n",
    "\n",
    "    def payoff(self, player: zs.Player):\n",
    "        s0 = islice(self.history, 2, None, 4)\n",
    "        s1 = islice(self.history, 4, None, 4)\n",
    "\n",
    "        score = 0\n",
    "        for a0, a1 in zip(s0, s1):\n",
    "            a0 = cast(Reward, a0)\n",
    "            a1 = cast(Reward, a1)\n",
    "            score += a0.reward - a1.reward\n",
    "\n",
    "        return score if player == 0 else -score\n",
    "\n",
    "    @property\n",
    "    def chance(self):\n",
    "        return len(self.history) % 2 == 0\n",
    "\n",
    "    def chances(self):\n",
    "        raise NotImplementedError\n",
    "    \n",
    "    def _init(self):\n",
    "        means = tuple(random.random() for _ in range(self.arms))\n",
    "        return Init(means)\n",
    "    \n",
    "    # overriding this method in a subclass is an easy method to create\n",
    "    # a bandit game with different reward distributions\n",
    "\n",
    "    def sample(self) -> Action:\n",
    "        if len(self.history) == 0:\n",
    "            return self._init()\n",
    "\n",
    "        *_, action = self.history\n",
    "        action = cast(Choice, action)\n",
    "        if random.random() > self.means[action.arm]:\n",
    "            return Reward(1)\n",
    "        return Reward(0)\n",
    "\n",
    "    @property\n",
    "    def active(self) -> zs.Player:\n",
    "        if len(self.history) % 4 == 1:\n",
    "            return zs.Player(0)\n",
    "        return zs.Player(1)\n",
    "\n",
    "    def infoset(self, player: zs.Player):\n",
    "        choices, rewards = self.history[1::4], self.history[2::4]\n",
    "        if player == 1:\n",
    "            choices, rewards = self.history[3::4], self.history[4::4]\n",
    "\n",
    "        history = tuple(chain.from_iterable(zip(choices, rewards)))\n",
    "        return InfoSet(self.round, self.arms, history)\n",
    "\n",
    "    def apply(self, action: Action):\n",
    "        round = self.round\n",
    "        if len(self.history) > 1 and (len(self.history) - 1) % 4 == 0:\n",
    "            round += 1\n",
    "\n",
    "        return replace(self, round=round, history=self.history + (action,))\n",
    "\n",
    "\n",
    "_: zs.Game[Action, InfoSet] = Learn(0, 3)"
   ]
  },
  {
   "attachments": {},
   "cell_type": "markdown",
   "metadata": {},
   "source": [
    "We can immediately attempt to find a Nash equilibrium for this game, but we will find the number of infosets is quite large compared to the essential complexity of the game."
   ]
  },
  {
   "cell_type": "code",
   "execution_count": 76,
   "metadata": {},
   "outputs": [],
   "source": [
    "def game():\n",
    "    return Learn(5, 2)\n",
    "\n",
    "\n",
    "impl = zs.ESLCFR(1000)\n",
    "algo = zs.Algorithm(impl, game)"
   ]
  },
  {
   "cell_type": "code",
   "execution_count": 77,
   "metadata": {},
   "outputs": [
    {
     "name": "stderr",
     "output_type": "stream",
     "text": [
      "100%|██████████| 100/100 [00:00<00:00, 145.60it/s]\n"
     ]
    }
   ],
   "source": [
    "from tqdm import tqdm\n",
    "\n",
    "\n",
    "for _ in tqdm(range(100)):\n",
    "    algo.once()"
   ]
  },
  {
   "cell_type": "code",
   "execution_count": 78,
   "metadata": {},
   "outputs": [
    {
     "data": {
      "text/plain": [
       "1624"
      ]
     },
     "execution_count": 78,
     "metadata": {},
     "output_type": "execute_result"
    }
   ],
   "source": [
    "len(impl.strategies)"
   ]
  },
  {
   "attachments": {},
   "cell_type": "markdown",
   "metadata": {},
   "source": [
    "We can construct an abstraction of the game by capturing only the essential information. The player how many times each arm was pulled and their average payoff. The latter value is bucketed. The player also knows which round they are playing (it is implicit in the last information)."
   ]
  },
  {
   "cell_type": "code",
   "execution_count": 89,
   "metadata": {},
   "outputs": [],
   "source": [
    "def aggregate(buckets: int):\n",
    "    @zs.algebraic\n",
    "    def aggregate(infoset: zs.InfoSet):\n",
    "        infoset = cast(InfoSet, infoset)\n",
    "        means = [0.0] * infoset.arms\n",
    "        ns = [0] * infoset.arms\n",
    "\n",
    "        for choice, action in zip(infoset.history[::2], infoset.history[1::2]):\n",
    "            arm = cast(Choice, choice).arm\n",
    "            reward = cast(Reward, action).reward\n",
    "\n",
    "            means[arm] = (reward + means[arm] * ns[arm]) / (ns[arm] + 1)\n",
    "            ns[arm] += 1\n",
    "        \n",
    "        return tuple(round(m * buckets) for m in means)\n",
    "    return aggregate\n",
    "\n",
    "\n",
    "@zs.algebraic\n",
    "def chosen(infoset: zs.InfoSet):\n",
    "    infoset = cast(InfoSet, infoset)\n",
    "\n",
    "    arms = [0] * infoset.arms\n",
    "    for choice in infoset.history[::2]:\n",
    "        arm = cast(Choice, choice).arm\n",
    "        arms[arm] += 1\n",
    "\n",
    "    return tuple(arms)\n",
    "\n",
    "def actions(infoset: zs.InfoSet):\n",
    "    return infoset.actions()\n",
    "\n",
    "\n",
    "def abstract(buckets: int):\n",
    "    @zs.abstract(Learn, aggregate(buckets) * chosen, actions)\n",
    "    class Abstraction(Learn):\n",
    "        ...\n",
    "\n",
    "    return Abstraction"
   ]
  },
  {
   "cell_type": "code",
   "execution_count": 90,
   "metadata": {},
   "outputs": [],
   "source": [
    "abstraction = cast(type[Learn], abstract(3))\n",
    "\n",
    "def game(rounds: int = 3, arms: int = 2):\n",
    "    return abstraction(rounds, arms)\n",
    "\n",
    "\n",
    "impl = zs.ESCFRP()\n",
    "algo = zs.Algorithm(impl, game)"
   ]
  },
  {
   "cell_type": "code",
   "execution_count": 94,
   "metadata": {},
   "outputs": [
    {
     "name": "stderr",
     "output_type": "stream",
     "text": [
      "100%|██████████| 5000/5000 [00:16<00:00, 306.53it/s]\n"
     ]
    }
   ],
   "source": [
    "for _ in tqdm(range(5000)):\n",
    "    algo.once()"
   ]
  },
  {
   "attachments": {},
   "cell_type": "markdown",
   "metadata": {},
   "source": [
    "Notice there are significantly fewer information sets !"
   ]
  },
  {
   "cell_type": "code",
   "execution_count": 95,
   "metadata": {},
   "outputs": [
    {
     "data": {
      "text/plain": [
       "35"
      ]
     },
     "execution_count": 95,
     "metadata": {},
     "output_type": "execute_result"
    }
   ],
   "source": [
    "len(impl.strategies)"
   ]
  },
  {
   "cell_type": "code",
   "execution_count": 97,
   "metadata": {},
   "outputs": [
    {
     "data": {
      "text/plain": [
       "{((0, 0), (0, 0)): {Choice(arm=0): 0.5671479099346806,\n",
       "  Choice(arm=1): 0.4328520900653195},\n",
       " ((0, 0), (1, 0)): {Choice(arm=0): 0.04877598623379356,\n",
       "  Choice(arm=1): 0.9512240137662065},\n",
       " ((3, 0), (1, 0)): {Choice(arm=0): 0.9632993137802633,\n",
       "  Choice(arm=1): 0.03670068621973664},\n",
       " ((0, 0), (2, 0)): {Choice(arm=0): 0.02939603456318818,\n",
       "  Choice(arm=1): 0.9706039654368118},\n",
       " ((2, 0), (2, 0)): {Choice(arm=0): 0.3052337896421444,\n",
       "  Choice(arm=1): 0.6947662103578556},\n",
       " ((0, 0), (3, 0)): {Choice(arm=0): 0.5, Choice(arm=1): 0.5},\n",
       " ((0, 0), (2, 1)): {Choice(arm=0): 0.5, Choice(arm=1): 0.5},\n",
       " ((0, 0), (1, 1)): {Choice(arm=0): 0.34235200386273057,\n",
       "  Choice(arm=1): 0.6576479961372695},\n",
       " ((3, 0), (1, 1)): {Choice(arm=0): 0.9850118269599332,\n",
       "  Choice(arm=1): 0.014988173040066853},\n",
       " ((0, 2), (1, 2)): {Choice(arm=0): 0.5, Choice(arm=1): 0.5},\n",
       " ((0, 0), (0, 1)): {Choice(arm=0): 0.9536096268503257,\n",
       "  Choice(arm=1): 0.04639037314967437},\n",
       " ((0, 0), (1, 2)): {Choice(arm=0): 0.5, Choice(arm=1): 0.5},\n",
       " ((0, 2), (0, 2)): {Choice(arm=0): 0.6207121615640508,\n",
       "  Choice(arm=1): 0.37928783843594915},\n",
       " ((0, 1), (0, 3)): {Choice(arm=0): 0.5, Choice(arm=1): 0.5},\n",
       " ((0, 3), (0, 1)): {Choice(arm=0): 0.047990521736038724,\n",
       "  Choice(arm=1): 0.9520094782639612},\n",
       " ((0, 3), (0, 2)): {Choice(arm=0): 0.020331438897282103,\n",
       "  Choice(arm=1): 0.9796685611027178},\n",
       " ((3, 0), (2, 0)): {Choice(arm=0): 0.9817109792208603,\n",
       "  Choice(arm=1): 0.018289020779139784},\n",
       " ((0, 2), (0, 3)): {Choice(arm=0): 0.5, Choice(arm=1): 0.5},\n",
       " ((3, 2), (1, 2)): {Choice(arm=0): 0.5, Choice(arm=1): 0.5},\n",
       " ((0, 0), (0, 2)): {Choice(arm=0): 0.9779949303037501,\n",
       "  Choice(arm=1): 0.022005069696249838},\n",
       " ((1, 0), (3, 0)): {Choice(arm=0): 0.5, Choice(arm=1): 0.5},\n",
       " ((0, 3), (1, 1)): {Choice(arm=0): 0.018805809124963317,\n",
       "  Choice(arm=1): 0.9811941908750367},\n",
       " ((2, 0), (2, 1)): {Choice(arm=0): 0.5, Choice(arm=1): 0.5},\n",
       " ((3, 3), (1, 1)): {Choice(arm=0): 0.6494917337751887,\n",
       "  Choice(arm=1): 0.3505082662248114},\n",
       " ((3, 0), (1, 2)): {Choice(arm=0): 0.5, Choice(arm=1): 0.5},\n",
       " ((0, 0), (0, 3)): {Choice(arm=0): 0.5, Choice(arm=1): 0.5},\n",
       " ((2, 3), (2, 1)): {Choice(arm=0): 0.5, Choice(arm=1): 0.5},\n",
       " ((0, 3), (1, 2)): {Choice(arm=0): 0.5, Choice(arm=1): 0.5},\n",
       " ((3, 3), (1, 2)): {Choice(arm=0): 0.5, Choice(arm=1): 0.5},\n",
       " ((3, 0), (3, 0)): {Choice(arm=0): 0.5, Choice(arm=1): 0.5},\n",
       " ((2, 0), (3, 0)): {Choice(arm=0): 0.5, Choice(arm=1): 0.5},\n",
       " ((3, 0), (2, 1)): {Choice(arm=0): 0.5, Choice(arm=1): 0.5},\n",
       " ((0, 3), (2, 1)): {Choice(arm=0): 0.5, Choice(arm=1): 0.5},\n",
       " ((3, 3), (2, 1)): {Choice(arm=0): 0.5, Choice(arm=1): 0.5},\n",
       " ((0, 3), (0, 3)): {Choice(arm=0): 0.5, Choice(arm=1): 0.5}}"
      ]
     },
     "execution_count": 97,
     "metadata": {},
     "output_type": "execute_result"
    }
   ],
   "source": [
    "zs.normalize(impl.strategies)"
   ]
  }
 ],
 "metadata": {
  "kernelspec": {
   "display_name": "clean",
   "language": "python",
   "name": "python3"
  },
  "language_info": {
   "codemirror_mode": {
    "name": "ipython",
    "version": 3
   },
   "file_extension": ".py",
   "mimetype": "text/x-python",
   "name": "python",
   "nbconvert_exporter": "python",
   "pygments_lexer": "ipython3",
   "version": "3.10.8"
  },
  "orig_nbformat": 4,
  "vscode": {
   "interpreter": {
    "hash": "7ac02b84f0b2c07ad9d596dfc0dd5b68046a23d9882df65ad98f7b44c27b887b"
   }
  }
 },
 "nbformat": 4,
 "nbformat_minor": 2
}
