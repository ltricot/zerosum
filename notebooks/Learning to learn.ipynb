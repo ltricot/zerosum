{
 "cells": [
  {
   "attachments": {},
   "cell_type": "markdown",
   "metadata": {},
   "source": [
    "# Learning to learn\n",
    "\n",
    "We explore the bandit problem by representing it as an imperfect information game and solving it with a counterfactual regret minimization algorithm."
   ]
  },
  {
   "cell_type": "code",
   "execution_count": 3,
   "metadata": {},
   "outputs": [],
   "source": [
    "import zerosum as zs\n",
    "\n",
    "from typing import cast\n",
    "from dataclasses import dataclass, replace\n",
    "from itertools import islice, chain\n",
    "import random"
   ]
  },
  {
   "attachments": {},
   "cell_type": "markdown",
   "metadata": {},
   "source": [
    "## The bandit game\n",
    "\n",
    "The bandit player chooses from a set of arms at each round, and receives a reward from the arm chosen. The reward is drawn from a distribution that depends on the arm chosen. The player's goal is to maximize their reward. The number of rounds is fixed before-hand.\n",
    "\n",
    "Our framework can currently only handle zero-sum two player games. We therefore study an alternative problem where two players play the game simultaneously. They do not share information. The payoff of each player is adjusted by the payoff of their opponent."
   ]
  },
  {
   "cell_type": "code",
   "execution_count": 385,
   "metadata": {},
   "outputs": [],
   "source": [
    "@dataclass(slots=True, frozen=True)\n",
    "class Init:\n",
    "    means: tuple[float, ...]\n",
    "\n",
    "\n",
    "@dataclass(slots=True, frozen=True)\n",
    "class Choice:\n",
    "    arm: int\n",
    "\n",
    "\n",
    "@dataclass(slots=True, frozen=True)\n",
    "class Reward:\n",
    "    reward: float\n",
    "\n",
    "\n",
    "Action = Init | Reward | Choice\n",
    "\n",
    "\n",
    "@dataclass(slots=True, frozen=True)\n",
    "class InfoSet:\n",
    "    player: zs.Player\n",
    "    round: int\n",
    "    rounds: int\n",
    "    arms: int\n",
    "    history: tuple[Action, ...]\n",
    "\n",
    "    def actions(self):\n",
    "        return tuple(Choice(i) for i in range(self.arms))\n",
    "\n",
    "\n",
    "@dataclass(slots=True, frozen=True)\n",
    "class Learn:\n",
    "    rounds: int\n",
    "    arms: int\n",
    "\n",
    "    round: int = 0\n",
    "    history: tuple[Action, ...] = ()\n",
    "\n",
    "    @property\n",
    "    def means(self):\n",
    "        return cast(Init, self.history[0]).means\n",
    "\n",
    "    @property\n",
    "    def terminal(self):\n",
    "        return self.round >= self.rounds\n",
    "\n",
    "    def payoff(self, player: zs.Player):\n",
    "        s0 = islice(self.history, 2, None, 4)\n",
    "        s1 = islice(self.history, 4, None, 4)\n",
    "\n",
    "        sco = 0\n",
    "        for a0, a1 in zip(s0, s1):\n",
    "            a0 = cast(Reward, a0)\n",
    "            a1 = cast(Reward, a1)\n",
    "            sco += a0.reward - a1.reward\n",
    "        \n",
    "        return sco if player == 0 else -sco\n",
    "\n",
    "    @property\n",
    "    def chance(self):\n",
    "        return len(self.history) % 2 == 0\n",
    "\n",
    "    def chances(self):\n",
    "        raise NotImplementedError\n",
    "    \n",
    "    def _init(self):\n",
    "        means = tuple(random.random() for _ in range(self.arms))\n",
    "        return Init(means)\n",
    "    \n",
    "    # overriding this method in a subclass is an easy method to create\n",
    "    # a bandit game with different reward distributions\n",
    "\n",
    "    def sample(self) -> Action:\n",
    "        if len(self.history) == 0:\n",
    "            return self._init()\n",
    "\n",
    "        *_, action = self.history\n",
    "        action = cast(Choice, action)\n",
    "        if random.random() < self.means[action.arm]:\n",
    "            return Reward(1)\n",
    "        return Reward(0)\n",
    "\n",
    "    @property\n",
    "    def active(self) -> zs.Player:\n",
    "        if (len(self.history) - 1) % 4 == 0:\n",
    "            return zs.Player(0)\n",
    "        return zs.Player(1)\n",
    "\n",
    "    def infoset(self, player: zs.Player):\n",
    "        choices, rewards = self.history[1::4], self.history[2::4]\n",
    "        if player == 1:\n",
    "            choices, rewards = self.history[3::4], self.history[4::4]\n",
    "\n",
    "        history = tuple(chain.from_iterable(zip(choices, rewards)))\n",
    "        return InfoSet(player, self.round, self.rounds, self.arms, history)\n",
    "\n",
    "    def apply(self, action: Action):\n",
    "        round = self.round\n",
    "        if len(self.history) > 1 and (len(self.history) - 1) % 4 == 0:\n",
    "            round += 1\n",
    "\n",
    "        return replace(self, round=round, history=self.history + (action,))\n",
    "\n",
    "\n",
    "_: zs.Game[Action, InfoSet] = Learn(0, 3)"
   ]
  },
  {
   "attachments": {},
   "cell_type": "markdown",
   "metadata": {},
   "source": [
    "We can immediately attempt to find a Nash equilibrium for this game, but we will find the number of infosets is quite large compared to the essential complexity of the game."
   ]
  },
  {
   "cell_type": "code",
   "execution_count": 386,
   "metadata": {},
   "outputs": [],
   "source": [
    "def game():\n",
    "    return Learn(15, 2)\n",
    "\n",
    "\n",
    "impl = zs.OSCFR(0.1)\n",
    "algo = zs.Algorithm(impl, game)"
   ]
  },
  {
   "cell_type": "code",
   "execution_count": 387,
   "metadata": {},
   "outputs": [
    {
     "name": "stderr",
     "output_type": "stream",
     "text": [
      "100%|██████████| 1000/1000 [00:03<00:00, 300.92it/s]\n"
     ]
    }
   ],
   "source": [
    "from tqdm import tqdm\n",
    "\n",
    "\n",
    "for _ in tqdm(range(1000)):\n",
    "    algo.once()"
   ]
  },
  {
   "cell_type": "code",
   "execution_count": 388,
   "metadata": {},
   "outputs": [
    {
     "data": {
      "text/plain": [
       "32311"
      ]
     },
     "execution_count": 388,
     "metadata": {},
     "output_type": "execute_result"
    }
   ],
   "source": [
    "len(impl.strategies)"
   ]
  },
  {
   "attachments": {},
   "cell_type": "markdown",
   "metadata": {},
   "source": [
    "We can construct an abstraction of the game by capturing only the essential information. The player how many times each arm was pulled and their average payoff. The latter value is bucketed."
   ]
  },
  {
   "cell_type": "code",
   "execution_count": 400,
   "metadata": {},
   "outputs": [],
   "source": [
    "from fractions import Fraction as F\n",
    "\n",
    "\n",
    "@zs.algebraic\n",
    "def player(infoset: zs.InfoSet):\n",
    "    infoset = cast(InfoSet, infoset)\n",
    "    return infoset.player\n",
    "\n",
    "\n",
    "@dataclass(slots=True, frozen=True)\n",
    "class Round:\n",
    "    round: int\n",
    "\n",
    "\n",
    "def whichround(buckets: int):\n",
    "    @zs.algebraic\n",
    "    def whichround(infoset: zs.InfoSet):\n",
    "        infoset = cast(InfoSet, infoset)\n",
    "        return Round(round(buckets * infoset.round / infoset.rounds))\n",
    "    return whichround\n",
    "\n",
    "\n",
    "@dataclass(slots=True, frozen=True)\n",
    "class Scores:\n",
    "    scores: tuple[F, ...]\n",
    "\n",
    "\n",
    "def aggregate(buckets: int):\n",
    "    @zs.algebraic\n",
    "    def aggregate(infoset: zs.InfoSet):\n",
    "        infoset = cast(InfoSet, infoset)\n",
    "        means = [0.0] * infoset.arms\n",
    "        ns = [0] * infoset.arms\n",
    "\n",
    "        for choice, action in zip(infoset.history[::2], infoset.history[1::2]):\n",
    "            arm = cast(Choice, choice).arm\n",
    "            reward = cast(Reward, action).reward\n",
    "\n",
    "            means[arm] = (reward + means[arm] * ns[arm]) / (ns[arm] + 1)\n",
    "            ns[arm] += 1\n",
    "        \n",
    "        return Scores(tuple(F(round(m * buckets), buckets) for m in means))\n",
    "    return aggregate\n",
    "\n",
    "\n",
    "@dataclass(slots=True, frozen=True)\n",
    "class Chosen:\n",
    "    arms: tuple[F, ...]\n",
    "\n",
    "\n",
    "def chosen(buckets: int):\n",
    "    @zs.algebraic\n",
    "    def chosen(infoset: zs.InfoSet):\n",
    "        infoset = cast(InfoSet, infoset)\n",
    "\n",
    "        arms = [0.0] * infoset.arms\n",
    "        for choice in infoset.history[::2]:\n",
    "            arm = cast(Choice, choice).arm\n",
    "            arms[arm] += 1 / (1 + infoset.round)\n",
    "\n",
    "        return Chosen(tuple(F(round(m * buckets), buckets) for m in arms))\n",
    "    return chosen\n",
    "\n",
    "def actions(infoset: zs.InfoSet):\n",
    "    return infoset.actions()\n",
    "\n",
    "\n",
    "def abstract(buckets: int):\n",
    "    @zs.abstract(Learn, player * aggregate(buckets) * chosen(buckets) * whichround(10), actions)\n",
    "    class Abstraction(Learn):\n",
    "        ...\n",
    "\n",
    "    return Abstraction"
   ]
  },
  {
   "attachments": {},
   "cell_type": "markdown",
   "metadata": {},
   "source": [
    "When the game tree is deep, even if the abstraction is significantly smaller, External Sampling MCCFR does not perform well. Indeed, each iteration is performed in $O(b^{d / 2})$ where $b$ is the branching factor and $d$ is the depth of the game tree. This is because all of the considered player's actions are explored. Outcome Sampling CFR has $O(d)$ iterations. If the abstraction used buckets together infosets at different depths, this can lead to much faster convergence."
   ]
  },
  {
   "cell_type": "code",
   "execution_count": 408,
   "metadata": {},
   "outputs": [],
   "source": [
    "abstraction = cast(type[Learn], abstract(4))\n",
    "\n",
    "def game(rounds: int = 3, arms: int = 2):\n",
    "    return abstraction(rounds, arms)\n",
    "\n",
    "\n",
    "impl = zs.ESCFR()\n",
    "algo = zs.Algorithm(impl, game)"
   ]
  },
  {
   "cell_type": "code",
   "execution_count": 409,
   "metadata": {},
   "outputs": [
    {
     "name": "stderr",
     "output_type": "stream",
     "text": [
      " 29%|██▉       | 1442/5000 [00:12<00:30, 118.05it/s]\n"
     ]
    }
   ],
   "source": [
    "try:\n",
    "    for _ in tqdm(range(5000)):\n",
    "        algo.once()\n",
    "except KeyboardInterrupt:\n",
    "    pass"
   ]
  },
  {
   "attachments": {},
   "cell_type": "markdown",
   "metadata": {},
   "source": [
    "Notice there are significantly fewer information sets !"
   ]
  },
  {
   "cell_type": "code",
   "execution_count": 410,
   "metadata": {},
   "outputs": [
    {
     "data": {
      "text/plain": [
       "50"
      ]
     },
     "execution_count": 410,
     "metadata": {},
     "output_type": "execute_result"
    }
   ],
   "source": [
    "len(impl.strategies)"
   ]
  },
  {
   "cell_type": "code",
   "execution_count": 411,
   "metadata": {},
   "outputs": [
    {
     "data": {
      "text/plain": [
       "{(0, Scores(scores=(Fraction(0, 1), Fraction(0, 1))), Chosen(arms=(Fraction(0, 1), Fraction(0, 1))), Round(round=0)): {Choice(arm=0): 55.29557959138908,\n",
       "  Choice(arm=1): 1386.704420408611},\n",
       " (1, Scores(scores=(Fraction(0, 1), Fraction(0, 1))), Chosen(arms=(Fraction(0, 1), Fraction(0, 1))), Round(round=0)): {Choice(arm=0): 2724.448696233407,\n",
       "  Choice(arm=1): 159.55130376659528},\n",
       " (0, Scores(scores=(Fraction(1, 1), Fraction(0, 1))), Chosen(arms=(Fraction(1, 1), Fraction(0, 1))), Round(round=0)): {Choice(arm=0): 62.992261197692116,\n",
       "  Choice(arm=1): 5.007738802307885},\n",
       " (1, Scores(scores=(Fraction(0, 1), Fraction(1, 1))), Chosen(arms=(Fraction(0, 1), Fraction(1, 2))), Round(round=3)): {Choice(arm=0): 38.0,\n",
       "  Choice(arm=1): 128.0},\n",
       " (0, Scores(scores=(Fraction(1, 1), Fraction(0, 1))), Chosen(arms=(Fraction(1, 1), Fraction(0, 1))), Round(round=3)): {Choice(arm=0): 81.0,\n",
       "  Choice(arm=1): 1.0},\n",
       " (1, Scores(scores=(Fraction(1, 1), Fraction(1, 1))), Chosen(arms=(Fraction(1, 4), Fraction(1, 4))), Round(round=7)): {Choice(arm=0): 36.0,\n",
       "  Choice(arm=1): 14.0},\n",
       " (0, Scores(scores=(Fraction(1, 1), Fraction(0, 1))), Chosen(arms=(Fraction(1, 1), Fraction(0, 1))), Round(round=7)): {Choice(arm=0): 62.0,\n",
       "  Choice(arm=1): 62.0},\n",
       " (0, Scores(scores=(Fraction(1, 1), Fraction(1, 1))), Chosen(arms=(Fraction(3, 4), Fraction(1, 4))), Round(round=7)): {Choice(arm=0): 8.0,\n",
       "  Choice(arm=1): 8.0},\n",
       " (0, Scores(scores=(Fraction(1, 1), Fraction(0, 1))), Chosen(arms=(Fraction(1, 2), Fraction(1, 2))), Round(round=3)): {Choice(arm=0): 1362.0,\n",
       "  Choice(arm=1): 0.0},\n",
       " (1, Scores(scores=(Fraction(0, 1), Fraction(1, 2))), Chosen(arms=(Fraction(0, 1), Fraction(3, 4))), Round(round=7)): {Choice(arm=0): 45.670609606592386,\n",
       "  Choice(arm=1): 44.32939039340763},\n",
       " (0, Scores(scores=(Fraction(1, 1), Fraction(0, 1))), Chosen(arms=(Fraction(3, 4), Fraction(1, 4))), Round(round=7)): {Choice(arm=0): 888.0,\n",
       "  Choice(arm=1): 888.0},\n",
       " (0, Scores(scores=(Fraction(1, 1), Fraction(1, 2))), Chosen(arms=(Fraction(1, 4), Fraction(3, 4))), Round(round=7)): {Choice(arm=0): 160.0,\n",
       "  Choice(arm=1): 160.0},\n",
       " (0, Scores(scores=(Fraction(0, 1), Fraction(1, 1))), Chosen(arms=(Fraction(0, 1), Fraction(1, 1))), Round(round=0)): {Choice(arm=0): 20.057662019025447,\n",
       "  Choice(arm=1): 1325.9423379809746},\n",
       " (1, Scores(scores=(Fraction(0, 1), Fraction(0, 1))), Chosen(arms=(Fraction(0, 1), Fraction(1, 2))), Round(round=3)): {Choice(arm=0): 133.8138050376098,\n",
       "  Choice(arm=1): 14.186194962390248},\n",
       " (0, Scores(scores=(Fraction(1, 1), Fraction(1, 1))), Chosen(arms=(Fraction(1, 2), Fraction(1, 2))), Round(round=3)): {Choice(arm=0): 10.456046451133236,\n",
       "  Choice(arm=1): 5.543953548866765},\n",
       " (0, Scores(scores=(Fraction(0, 1), Fraction(1, 2))), Chosen(arms=(Fraction(0, 1), Fraction(1, 1))), Round(round=3)): {Choice(arm=0): 291.9385779439432,\n",
       "  Choice(arm=1): 606.0614220560562},\n",
       " (1, Scores(scores=(Fraction(1, 1), Fraction(0, 1))), Chosen(arms=(Fraction(1, 4), Fraction(1, 4))), Round(round=7)): {Choice(arm=0): 127.0,\n",
       "  Choice(arm=1): 11.0},\n",
       " (0, Scores(scores=(Fraction(0, 1), Fraction(1, 2))), Chosen(arms=(Fraction(1, 4), Fraction(3, 4))), Round(round=7)): {Choice(arm=0): 474.0,\n",
       "  Choice(arm=1): 474.0},\n",
       " (0, Scores(scores=(Fraction(0, 1), Fraction(3, 4))), Chosen(arms=(Fraction(0, 1), Fraction(1, 1))), Round(round=7)): {Choice(arm=0): 728.0,\n",
       "  Choice(arm=1): 728.0},\n",
       " (0, Scores(scores=(Fraction(0, 1), Fraction(0, 1))), Chosen(arms=(Fraction(0, 1), Fraction(1, 1))), Round(round=0)): {Choice(arm=0): 1355.9715838748248,\n",
       "  Choice(arm=1): 50.028416125175355},\n",
       " (1, Scores(scores=(Fraction(0, 1), Fraction(0, 1))), Chosen(arms=(Fraction(1, 2), Fraction(0, 1))), Round(round=3)): {Choice(arm=0): 133.26188726553124,\n",
       "  Choice(arm=1): 2694.7381127344684},\n",
       " (1, Scores(scores=(Fraction(0, 1), Fraction(0, 1))), Chosen(arms=(Fraction(3, 4), Fraction(0, 1))), Round(round=7)): {Choice(arm=0): 0.0,\n",
       "  Choice(arm=1): 162.0},\n",
       " (0, Scores(scores=(Fraction(0, 1), Fraction(1, 4))), Chosen(arms=(Fraction(0, 1), Fraction(1, 1))), Round(round=7)): {Choice(arm=0): 329.0,\n",
       "  Choice(arm=1): 329.0},\n",
       " (1, Scores(scores=(Fraction(0, 1), Fraction(1, 1))), Chosen(arms=(Fraction(1, 4), Fraction(1, 4))), Round(round=7)): {Choice(arm=0): 9.0,\n",
       "  Choice(arm=1): 2759.0},\n",
       " (0, Scores(scores=(Fraction(0, 1), Fraction(0, 1))), Chosen(arms=(Fraction(1, 2), Fraction(1, 2))), Round(round=3)): {Choice(arm=0): 478.26707020175536,\n",
       "  Choice(arm=1): 911.7329297982453},\n",
       " (1, Scores(scores=(Fraction(0, 1), Fraction(0, 1))), Chosen(arms=(Fraction(1, 4), Fraction(1, 4))), Round(round=7)): {Choice(arm=0): 2432.2687922124414,\n",
       "  Choice(arm=1): 345.7312077875403},\n",
       " (0, Scores(scores=(Fraction(0, 1), Fraction(0, 1))), Chosen(arms=(Fraction(1, 4), Fraction(3, 4))), Round(round=7)): {Choice(arm=0): 622.0,\n",
       "  Choice(arm=1): 622.0},\n",
       " (1, Scores(scores=(Fraction(0, 1), Fraction(0, 1))), Chosen(arms=(Fraction(0, 1), Fraction(3, 4))), Round(round=7)): {Choice(arm=0): 4.0,\n",
       "  Choice(arm=1): 14.0},\n",
       " (0, Scores(scores=(Fraction(0, 1), Fraction(0, 1))), Chosen(arms=(Fraction(1, 1), Fraction(0, 1))), Round(round=0)): {Choice(arm=0): 28.00468234223594,\n",
       "  Choice(arm=1): 35.995317657764076},\n",
       " (0, Scores(scores=(Fraction(1, 2), Fraction(0, 1))), Chosen(arms=(Fraction(1, 1), Fraction(0, 1))), Round(round=3)): {Choice(arm=0): 46.860952080168,\n",
       "  Choice(arm=1): 15.139047919831981},\n",
       " (0, Scores(scores=(Fraction(3, 4), Fraction(0, 1))), Chosen(arms=(Fraction(1, 1), Fraction(0, 1))), Round(round=7)): {Choice(arm=0): 41.0,\n",
       "  Choice(arm=1): 41.0},\n",
       " (0, Scores(scores=(Fraction(1, 2), Fraction(1, 1))), Chosen(arms=(Fraction(3, 4), Fraction(1, 4))), Round(round=7)): {Choice(arm=0): 14.0,\n",
       "  Choice(arm=1): 14.0},\n",
       " (0, Scores(scores=(Fraction(0, 1), Fraction(1, 1))), Chosen(arms=(Fraction(1, 2), Fraction(1, 2))), Round(round=3)): {Choice(arm=0): 0.0,\n",
       "  Choice(arm=1): 68.0},\n",
       " (0, Scores(scores=(Fraction(0, 1), Fraction(1, 1))), Chosen(arms=(Fraction(3, 4), Fraction(1, 4))), Round(round=7)): {Choice(arm=0): 15.0,\n",
       "  Choice(arm=1): 15.0},\n",
       " (0, Scores(scores=(Fraction(0, 1), Fraction(1, 1))), Chosen(arms=(Fraction(0, 1), Fraction(1, 1))), Round(round=3)): {Choice(arm=0): 0.0,\n",
       "  Choice(arm=1): 1796.0},\n",
       " (0, Scores(scores=(Fraction(1, 1), Fraction(1, 1))), Chosen(arms=(Fraction(1, 4), Fraction(3, 4))), Round(round=7)): {Choice(arm=0): 3.0,\n",
       "  Choice(arm=1): 3.0},\n",
       " (0, Scores(scores=(Fraction(0, 1), Fraction(0, 1))), Chosen(arms=(Fraction(1, 1), Fraction(0, 1))), Round(round=3)): {Choice(arm=0): 2.0,\n",
       "  Choice(arm=1): 34.0},\n",
       " (0, Scores(scores=(Fraction(0, 1), Fraction(0, 1))), Chosen(arms=(Fraction(3, 4), Fraction(1, 4))), Round(round=7)): {Choice(arm=0): 331.0,\n",
       "  Choice(arm=1): 331.0},\n",
       " (0, Scores(scores=(Fraction(0, 1), Fraction(0, 1))), Chosen(arms=(Fraction(1, 1), Fraction(0, 1))), Round(round=7)): {Choice(arm=0): 0,\n",
       "  Choice(arm=1): 0},\n",
       " (1, Scores(scores=(Fraction(0, 1), Fraction(1, 1))), Chosen(arms=(Fraction(0, 1), Fraction(3, 4))), Round(round=7)): {Choice(arm=0): 1.0,\n",
       "  Choice(arm=1): 181.0},\n",
       " (0, Scores(scores=(Fraction(0, 1), Fraction(1, 1))), Chosen(arms=(Fraction(1, 4), Fraction(3, 4))), Round(round=7)): {Choice(arm=0): 41.0,\n",
       "  Choice(arm=1): 41.0},\n",
       " (0, Scores(scores=(Fraction(0, 1), Fraction(1, 1))), Chosen(arms=(Fraction(0, 1), Fraction(1, 1))), Round(round=7)): {Choice(arm=0): 1354.0,\n",
       "  Choice(arm=1): 1354.0},\n",
       " (0, Scores(scores=(Fraction(1, 2), Fraction(0, 1))), Chosen(arms=(Fraction(3, 4), Fraction(1, 4))), Round(round=7)): {Choice(arm=0): 642.0,\n",
       "  Choice(arm=1): 642.0},\n",
       " (0, Scores(scores=(Fraction(0, 1), Fraction(0, 1))), Chosen(arms=(Fraction(0, 1), Fraction(1, 1))), Round(round=3)): {Choice(arm=0): 22.5,\n",
       "  Choice(arm=1): 35.5},\n",
       " (0, Scores(scores=(Fraction(0, 1), Fraction(0, 1))), Chosen(arms=(Fraction(0, 1), Fraction(1, 1))), Round(round=7)): {Choice(arm=0): 20.0,\n",
       "  Choice(arm=1): 20.0},\n",
       " (1, Scores(scores=(Fraction(1, 2), Fraction(0, 1))), Chosen(arms=(Fraction(3, 4), Fraction(0, 1))), Round(round=7)): {Choice(arm=0): 1198.5179414020247,\n",
       "  Choice(arm=1): 753.482058597975},\n",
       " (0, Scores(scores=(Fraction(1, 4), Fraction(0, 1))), Chosen(arms=(Fraction(1, 1), Fraction(0, 1))), Round(round=7)): {Choice(arm=0): 23.0,\n",
       "  Choice(arm=1): 23.0},\n",
       " (0, Scores(scores=(Fraction(1, 1), Fraction(0, 1))), Chosen(arms=(Fraction(1, 4), Fraction(3, 4))), Round(round=7)): {Choice(arm=0): 13.0,\n",
       "  Choice(arm=1): 13.0},\n",
       " (1, Scores(scores=(Fraction(1, 1), Fraction(0, 1))), Chosen(arms=(Fraction(1, 2), Fraction(0, 1))), Round(round=3)): {Choice(arm=0): 2624.8220858895706,\n",
       "  Choice(arm=1): 1.177914110429448},\n",
       " (1, Scores(scores=(Fraction(1, 1), Fraction(0, 1))), Chosen(arms=(Fraction(3, 4), Fraction(0, 1))), Round(round=7)): {Choice(arm=0): 3398.0,\n",
       "  Choice(arm=1): 0.0}}"
      ]
     },
     "execution_count": 411,
     "metadata": {},
     "output_type": "execute_result"
    }
   ],
   "source": [
    "impl.strategies"
   ]
  },
  {
   "cell_type": "code",
   "execution_count": 412,
   "metadata": {},
   "outputs": [
    {
     "name": "stderr",
     "output_type": "stream",
     "text": [
      "100%|██████████| 1/1 [00:00<00:00, 1349.08it/s]"
     ]
    },
    {
     "name": "stdout",
     "output_type": "stream",
     "text": [
      "3.0\n"
     ]
    },
    {
     "name": "stderr",
     "output_type": "stream",
     "text": [
      "\n"
     ]
    }
   ],
   "source": [
    "n = 1\n",
    "payoff = 0\n",
    "\n",
    "for _ in tqdm(range(n)):\n",
    "    g = game()\n",
    "    g = g.apply(Init((0, 1)))\n",
    "\n",
    "    bef = False\n",
    "    while not g.terminal:\n",
    "        if g.chance:\n",
    "            action = g.sample()\n",
    "            if bef and isinstance(action, Reward):\n",
    "                payoff += action.reward\n",
    "                bef = False\n",
    "\n",
    "            g = g.apply(action)\n",
    "            continue\n",
    "\n",
    "        infoset = g.infoset(g.active)\n",
    "\n",
    "        action = infoset.actions()[0]\n",
    "        if infoset in impl.strategies:\n",
    "            s = impl.strategies[infoset]\n",
    "            action = max(s, key=s.__getitem__)\n",
    "\n",
    "        bef = (g.active == 0)\n",
    "        g = g.apply(action)\n",
    "\n",
    "print(payoff / n)"
   ]
  },
  {
   "cell_type": "code",
   "execution_count": 413,
   "metadata": {},
   "outputs": [
    {
     "data": {
      "text/plain": [
       "(Choice(arm=0), Choice(arm=1), Choice(arm=1))"
      ]
     },
     "execution_count": 413,
     "metadata": {},
     "output_type": "execute_result"
    }
   ],
   "source": [
    "g.history[3::4]"
   ]
  }
 ],
 "metadata": {
  "kernelspec": {
   "display_name": "clean",
   "language": "python",
   "name": "python3"
  },
  "language_info": {
   "codemirror_mode": {
    "name": "ipython",
    "version": 3
   },
   "file_extension": ".py",
   "mimetype": "text/x-python",
   "name": "python",
   "nbconvert_exporter": "python",
   "pygments_lexer": "ipython3",
   "version": "3.10.8"
  },
  "orig_nbformat": 4,
  "vscode": {
   "interpreter": {
    "hash": "7ac02b84f0b2c07ad9d596dfc0dd5b68046a23d9882df65ad98f7b44c27b887b"
   }
  }
 },
 "nbformat": 4,
 "nbformat_minor": 2
}
