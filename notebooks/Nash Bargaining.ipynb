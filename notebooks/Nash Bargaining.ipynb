{
    "cells": [
        {
            "cell_type": "code",
            "execution_count": 10,
            "metadata": {},
            "outputs": [],
            "source": [
                "import zerosum as zs\n",
                "from zerosum.bargain.sealed import Game"
            ]
        },
        {
            "cell_type": "code",
            "execution_count": 18,
            "metadata": {},
            "outputs": [],
            "source": [
                "game = lambda: Game(3)\n",
                "\n",
                "impl = zs.CFR()\n",
                "algo = zs.Algorithm(impl, game)"
            ]
        },
        {
            "cell_type": "code",
            "execution_count": 21,
            "metadata": {},
            "outputs": [],
            "source": [
                "for _ in range(100):\n",
                "    algo.once()"
            ]
        },
        {
            "cell_type": "code",
            "execution_count": 22,
            "metadata": {},
            "outputs": [
                {
                    "data": {
                        "text/plain": [
                            "{InfoSet(utility=3): {Bid(bid=0): 0.25,\n",
                            "  Bid(bid=1): 267.45378114137867,\n",
                            "  Bid(bid=2): 281.6462188586213,\n",
                            "  Bid(bid=3): 0.65}}"
                        ]
                    },
                    "execution_count": 22,
                    "metadata": {},
                    "output_type": "execute_result"
                }
            ],
            "source": [
                "algo.impl.strategies"
            ]
        }
    ],
    "metadata": {
        "kernelspec": {
            "display_name": "clean",
            "language": "python",
            "name": "python3"
        },
        "language_info": {
            "codemirror_mode": {
                "name": "ipython",
                "version": 3
            },
            "file_extension": ".py",
            "mimetype": "text/x-python",
            "name": "python",
            "nbconvert_exporter": "python",
            "pygments_lexer": "ipython3",
            "version": "3.10.8"
        },
        "orig_nbformat": 4,
        "vscode": {
            "interpreter": {
                "hash": "7ac02b84f0b2c07ad9d596dfc0dd5b68046a23d9882df65ad98f7b44c27b887b"
            }
        }
    },
    "nbformat": 4,
    "nbformat_minor": 2
}
