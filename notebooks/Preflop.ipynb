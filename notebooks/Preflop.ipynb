{
 "cells": [
  {
   "cell_type": "code",
   "execution_count": 1,
   "metadata": {},
   "outputs": [
    {
     "name": "stdout",
     "output_type": "stream",
     "text": [
      "/Users/belart/code/pkr/cfr\n"
     ]
    }
   ],
   "source": [
    "%cd .."
   ]
  },
  {
   "cell_type": "code",
   "execution_count": 2,
   "metadata": {},
   "outputs": [],
   "source": [
    "from typing import cast\n",
    "\n",
    "from zerosum.pkr.game import RiverOfBlood, Fold, Call, Allin, Draw, Bet, Flop, RaisePot, Check, RaiseHalfPot\n",
    "from zerosum import Runner\n",
    "from zerosum.game import normalize\n",
    "\n",
    "from blood.h8a20d30p import Abstraction"
   ]
  },
  {
   "cell_type": "code",
   "execution_count": 3,
   "metadata": {},
   "outputs": [
    {
     "data": {
      "text/plain": [
       "(Fold(), Call(), RaisePot(), Allin())"
      ]
     },
     "execution_count": 3,
     "metadata": {},
     "output_type": "execute_result"
    }
   ],
   "source": [
    "g = Abstraction().apply(Draw((0, 0))).apply(Draw((0, 0)))\n",
    "g.infoset(g.active).actions()"
   ]
  },
  {
   "cell_type": "code",
   "execution_count": 4,
   "metadata": {},
   "outputs": [],
   "source": [
    "runner = Runner.load(\"bloods/h8a20d30p.pkl\", Abstraction, 1000000)"
   ]
  },
  {
   "cell_type": "code",
   "execution_count": 5,
   "metadata": {},
   "outputs": [
    {
     "name": "stderr",
     "output_type": "stream",
     "text": [
      "100%|██████████| 52/52 [00:00<00:00, 72.70it/s]"
     ]
    },
    {
     "name": "stdout",
     "output_type": "stream",
     "text": [
      "RaisePot: 32.35%\n",
      "Fold: 40.72%\n",
      "Call: 15.08%\n",
      "Allin: 11.84%\n"
     ]
    },
    {
     "name": "stderr",
     "output_type": "stream",
     "text": [
      "\n"
     ]
    }
   ],
   "source": [
    "from collections import defaultdict\n",
    "from tqdm import tqdm\n",
    "import numpy as np\n",
    "\n",
    "table = defaultdict(list)\n",
    "actions = {RaisePot(): 0.0, Fold(): 0, Call(): 0, Allin(): 0}\n",
    "\n",
    "for i in tqdm(range(52)):\n",
    "    for j in range(i + 1, 52):\n",
    "        if i == j:\n",
    "            continue\n",
    "\n",
    "        ri, si = divmod(i, 4)\n",
    "        rj, sj = divmod(j, 4)\n",
    "\n",
    "        g = Abstraction().apply(Draw((i, j))).apply(Draw((i, j)))\n",
    "        infoset = g.infoset(g.active)\n",
    "        try:\n",
    "            s = runner.impl.strategies[infoset]\n",
    "        except KeyError:\n",
    "            continue\n",
    "        s = normalize(s)\n",
    "\n",
    "        l, r = 12 - min(ri, rj), 12 - max(ri, rj)\n",
    "        if si == sj:\n",
    "            ix = r, l\n",
    "        else:\n",
    "            ix = l, r\n",
    "\n",
    "        action = max(s, key=s.__getitem__)\n",
    "        actions[action] += 1 / 1326\n",
    "        would = isinstance(action, (Fold,))\n",
    "        table[ix].append(1 if would else 0)\n",
    "\n",
    "for k, v in actions.items():\n",
    "    print(f\"{k.__class__.__name__}: {round(100 * v, 2)}%\")"
   ]
  },
  {
   "cell_type": "code",
   "execution_count": 6,
   "metadata": {},
   "outputs": [
    {
     "data": {
      "text/plain": [
       "<matplotlib.image.AxesImage at 0x17574fa60>"
      ]
     },
     "execution_count": 6,
     "metadata": {},
     "output_type": "execute_result"
    },
    {
     "data": {
      "image/png": "[encoded data removed]",
      "text/plain": [
       "<Figure size 480x480 with 1 Axes>"
      ]
     },
     "metadata": {},
     "output_type": "display_data"
    }
   ],
   "source": [
    "tab = np.zeros((13, 13))\n",
    "# for (i, j), v in tables[False].items():\n",
    "for (i, j), v in table.items():\n",
    "    tab[i, j] = np.mean(v)\n",
    "\n",
    "import matplotlib.pyplot as plt\n",
    "plt.matshow(tab, vmin=0, vmax=1)"
   ]
  }
 ],
 "metadata": {
  "kernelspec": {
   "display_name": "clean",
   "language": "python",
   "name": "python3"
  },
  "language_info": {
   "codemirror_mode": {
    "name": "ipython",
    "version": 3
   },
   "file_extension": ".py",
   "mimetype": "text/x-python",
   "name": "python",
   "nbconvert_exporter": "python",
   "pygments_lexer": "ipython3",
   "version": "3.10.8"
  },
  "orig_nbformat": 4,
  "vscode": {
   "interpreter": {
    "hash": "7ac02b84f0b2c07ad9d596dfc0dd5b68046a23d9882df65ad98f7b44c27b887b"
   }
  }
 },
 "nbformat": 4,
 "nbformat_minor": 2
}
