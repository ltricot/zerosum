{
 "cells": [
  {
   "cell_type": "code",
   "execution_count": 1,
   "metadata": {},
   "outputs": [],
   "source": [
    "from typing import cast\n",
    "\n",
    "from cfrpy.pkr.game import RiverOfBlood, Fold, Call\n",
    "from cfrpy.pkr.abstraction.versions.v1 import Abstraction\n",
    "from cfrpy.cfrplus import eswalkplus\n",
    "from cfrpy.escfr import eswalk\n",
    "from cfrpy.cfr import walk\n",
    "from cfrpy.game import Player, mc, play"
   ]
  },
  {
   "cell_type": "code",
   "execution_count": 2,
   "metadata": {},
   "outputs": [
    {
     "data": {
      "text/plain": [
       "(Fold(), Call(), Bet(bet=4), Bet(bet=8), Bet(bet=20), Bet(bet=40), Bet(bet=60))"
      ]
     },
     "execution_count": 2,
     "metadata": {},
     "output_type": "execute_result"
    }
   ],
   "source": [
    "g = Abstraction()\n",
    "g = g.apply(g.sample())\n",
    "g = g.apply(g.sample())\n",
    "\n",
    "g.infoset(g.active).actions()"
   ]
  },
  {
   "cell_type": "code",
   "execution_count": 3,
   "metadata": {},
   "outputs": [
    {
     "data": {
      "text/plain": [
       "[Draw(hand=(Card(\"Qs\"), Card(\"Ts\"))),\n",
       " Draw(hand=(Card(\"Th\"), Card(\"5c\"))),\n",
       " Bet(bet=60),\n",
       " Call(),\n",
       " Flop(cards=(Card(\"4h\"), Card(\"2h\"), Card(\"3d\"))),\n",
       " Bet(bet=256),\n",
       " Fold()]"
      ]
     },
     "execution_count": 3,
     "metadata": {},
     "output_type": "execute_result"
    }
   ],
   "source": [
    "list(mc(Abstraction()))"
   ]
  },
  {
   "cell_type": "code",
   "execution_count": 4,
   "metadata": {},
   "outputs": [],
   "source": [
    "regrets = {}\n",
    "strategies = {}\n",
    "start = 1"
   ]
  },
  {
   "cell_type": "code",
   "execution_count": 27,
   "metadata": {},
   "outputs": [
    {
     "name": "stdout",
     "output_type": "stream",
     "text": [
      "21535\t8291\r"
     ]
    }
   ],
   "source": [
    "import sys\n",
    "\n",
    "T = 100000\n",
    "\n",
    "t = start\n",
    "try:\n",
    "    for t in range(start, T):\n",
    "        for i in range(2):\n",
    "            eswalkplus(Abstraction(), cast(Player, i), regrets, strategies, t)\n",
    "            print(f\"{t}\\t{len(strategies)}\", end=\"\\r\")\n",
    "            sys.stdout.flush()\n",
    "except KeyboardInterrupt:\n",
    "    pass\n",
    "finally:\n",
    "    start = t"
   ]
  },
  {
   "cell_type": "code",
   "execution_count": 14,
   "metadata": {},
   "outputs": [],
   "source": [
    "import numpy as np\n",
    "\n",
    "\n",
    "def normalize(dct):\n",
    "    denom = sum(dct.values())\n",
    "    if denom <= 0:\n",
    "        return {k: 1 / len(dct) for k in dct}\n",
    "    return {k: v / denom for k, v in dct.items()}\n",
    "\n",
    "\n",
    "def play(game, strategies, player):\n",
    "    unknowns = 0\n",
    "    while not game.terminal:\n",
    "        if game.chance:\n",
    "            action = game.sample()\n",
    "        else:\n",
    "            infoset = game.infoset(game.active)\n",
    "            actions = infoset.actions()\n",
    "\n",
    "            if infoset in strategies and game.active == player:\n",
    "                s = strategies[infoset]\n",
    "                action = np.random.choice(list(s), p=list(normalize(s).values()))\n",
    "                # action = max(actions, key=lambda a: strategies[infoset].get(a, 0))\n",
    "            else:\n",
    "                if game.active == player:\n",
    "                    unknowns += 1\n",
    "\n",
    "                actions = infoset.actions()\n",
    "                action = np.random.choice(actions)\n",
    "\n",
    "                while isinstance(action, Fold):\n",
    "                    action = np.random.choice(actions)\n",
    "\n",
    "        game = game.apply(action)\n",
    "    \n",
    "    return game.payoff(player), unknowns"
   ]
  },
  {
   "cell_type": "code",
   "execution_count": 15,
   "metadata": {},
   "outputs": [
    {
     "data": {
      "text/plain": [
       "(-171, 0)"
      ]
     },
     "execution_count": 15,
     "metadata": {},
     "output_type": "execute_result"
    }
   ],
   "source": [
    "play(Abstraction(), strategies, 0)"
   ]
  },
  {
   "cell_type": "code",
   "execution_count": 16,
   "metadata": {},
   "outputs": [],
   "source": [
    "import matplotlib.pyplot as plt"
   ]
  },
  {
   "cell_type": "code",
   "execution_count": 31,
   "metadata": {},
   "outputs": [
    {
     "data": {
      "text/plain": [
       "0"
      ]
     },
     "execution_count": 31,
     "metadata": {},
     "output_type": "execute_result"
    }
   ],
   "source": [
    "N = 5000\n",
    "\n",
    "payoffs = []\n",
    "unks = 0\n",
    "for k in range(N):\n",
    "    pay, unk = play(Abstraction(), strategies, 0)\n",
    "    payoffs.append(pay)\n",
    "    unks += unk\n",
    "\n",
    "unks"
   ]
  },
  {
   "cell_type": "code",
   "execution_count": 32,
   "metadata": {},
   "outputs": [
    {
     "data": {
      "image/png": "[encoded data removed]",
      "text/plain": [
       "<Figure size 640x480 with 1 Axes>"
      ]
     },
     "metadata": {},
     "output_type": "display_data"
    }
   ],
   "source": [
    "plt.hist(payoffs, bins=100);"
   ]
  },
  {
   "cell_type": "code",
   "execution_count": 33,
   "metadata": {},
   "outputs": [
    {
     "data": {
      "text/plain": [
       "9.134"
      ]
     },
     "execution_count": 33,
     "metadata": {},
     "output_type": "execute_result"
    }
   ],
   "source": [
    "np.mean(payoffs)"
   ]
  }
 ],
 "metadata": {
  "kernelspec": {
   "display_name": "clean",
   "language": "python",
   "name": "python3"
  },
  "language_info": {
   "codemirror_mode": {
    "name": "ipython",
    "version": 3
   },
   "file_extension": ".py",
   "mimetype": "text/x-python",
   "name": "python",
   "nbconvert_exporter": "python",
   "pygments_lexer": "ipython3",
   "version": "3.10.8"
  },
  "orig_nbformat": 4,
  "vscode": {
   "interpreter": {
    "hash": "7ac02b84f0b2c07ad9d596dfc0dd5b68046a23d9882df65ad98f7b44c27b887b"
   }
  }
 },
 "nbformat": 4,
 "nbformat_minor": 2
}
