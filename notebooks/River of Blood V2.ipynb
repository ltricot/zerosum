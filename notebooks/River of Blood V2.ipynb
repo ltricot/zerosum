{
 "cells": [
  {
   "cell_type": "code",
   "execution_count": 5,
   "metadata": {},
   "outputs": [],
   "source": [
    "from typing import cast\n",
    "\n",
    "from cfrpy.pkr.game import RiverOfBlood, Fold, Call\n",
    "from cfrpy.pkr.abstraction.versions.v1 import Abstraction\n",
    "from cfrpy.algorithms.algo import Runner\n",
    "from cfrpy.algorithms.cfrplus import ESCFRP\n",
    "from cfrpy.algorithms.escfr import ESCFR\n",
    "from cfrpy.algorithms.lcfr import ESLCFR\n",
    "from cfrpy.game import Player, mc, play"
   ]
  },
  {
   "cell_type": "code",
   "execution_count": 6,
   "metadata": {},
   "outputs": [
    {
     "data": {
      "text/plain": [
       "(Check(), Bet(bet=8), Bet(bet=16), Bet(bet=40), Bet(bet=80), Bet(bet=120))"
      ]
     },
     "execution_count": 6,
     "metadata": {},
     "output_type": "execute_result"
    }
   ],
   "source": [
    "g = Abstraction()\n",
    "g = g.apply(g.sample())\n",
    "g = g.apply(g.sample())\n",
    "g = g.apply(Call()).apply(Call())\n",
    "g = g.apply(g.sample())\n",
    "\n",
    "g.infoset(g.active).actions()"
   ]
  },
  {
   "cell_type": "code",
   "execution_count": 7,
   "metadata": {},
   "outputs": [],
   "source": [
    "runner = Runner(ESLCFR(10_000), Abstraction, \"checkpt{}.pkl\", 10000, None)"
   ]
  },
  {
   "cell_type": "code",
   "execution_count": 8,
   "metadata": {},
   "outputs": [
    {
     "name": "stdout",
     "output_type": "stream",
     "text": [
      "2023-01-22 16:57:23 [info     ] iteration                      infosets=131 it=0 touched=243\n",
      "2023-01-22 16:57:25 [info     ] iteration                      infosets=1158 it=10 touched=3023\n",
      "2023-01-22 16:57:27 [info     ] iteration                      infosets=1661 it=20 touched=5632\n",
      "2023-01-22 16:57:29 [info     ] iteration                      infosets=2016 it=30 touched=8206\n",
      "2023-01-22 16:57:32 [info     ] iteration                      infosets=2365 it=40 touched=11248\n",
      "2023-01-22 16:57:34 [info     ] iteration                      infosets=2606 it=50 touched=13829\n",
      "2023-01-22 16:57:36 [info     ] iteration                      infosets=2821 it=60 touched=16807\n",
      "2023-01-22 16:57:38 [info     ] iteration                      infosets=2981 it=70 touched=19086\n",
      "2023-01-22 16:57:40 [info     ] iteration                      infosets=3117 it=80 touched=21797\n",
      "2023-01-22 16:57:43 [info     ] iteration                      infosets=3314 it=90 touched=24651\n",
      "2023-01-22 16:57:45 [info     ] iteration                      infosets=3419 it=100 touched=27028\n",
      "2023-01-22 16:57:47 [info     ] iteration                      infosets=3513 it=110 touched=29526\n",
      "2023-01-22 16:57:49 [info     ] iteration                      infosets=3588 it=120 touched=31688\n",
      "2023-01-22 16:57:50 [info     ] iteration                      infosets=3676 it=130 touched=34063\n",
      "2023-01-22 16:57:52 [info     ] iteration                      infosets=3736 it=140 touched=36166\n",
      "2023-01-22 16:57:54 [info     ] iteration                      infosets=3821 it=150 touched=38339\n",
      "2023-01-22 16:57:56 [info     ] iteration                      infosets=3880 it=160 touched=40653\n",
      "2023-01-22 16:57:57 [info     ] iteration                      infosets=3929 it=170 touched=42668\n",
      "2023-01-22 16:58:00 [info     ] iteration                      infosets=3992 it=180 touched=45345\n",
      "2023-01-22 16:58:02 [info     ] iteration                      infosets=4079 it=190 touched=48468\n",
      "2023-01-22 16:58:04 [info     ] iteration                      infosets=4135 it=200 touched=50726\n",
      "2023-01-22 16:58:06 [info     ] iteration                      infosets=4194 it=210 touched=53128\n",
      "2023-01-22 16:58:08 [info     ] iteration                      infosets=4241 it=220 touched=55428\n",
      "2023-01-22 16:58:11 [info     ] iteration                      infosets=4274 it=230 touched=57753\n",
      "2023-01-22 16:58:13 [info     ] iteration                      infosets=4321 it=240 touched=60289\n",
      "2023-01-22 16:58:15 [info     ] iteration                      infosets=4374 it=250 touched=62684\n",
      "2023-01-22 16:58:17 [info     ] iteration                      infosets=4447 it=260 touched=65841\n",
      "2023-01-22 16:58:20 [info     ] iteration                      infosets=4486 it=270 touched=68402\n",
      "2023-01-22 16:58:22 [info     ] iteration                      infosets=4555 it=280 touched=71775\n",
      "2023-01-22 16:58:25 [info     ] iteration                      infosets=4581 it=290 touched=74533\n",
      "2023-01-22 16:58:27 [info     ] iteration                      infosets=4612 it=300 touched=77024\n",
      "2023-01-22 16:58:29 [info     ] iteration                      infosets=4647 it=310 touched=79613\n",
      "2023-01-22 16:58:31 [info     ] iteration                      infosets=4688 it=320 touched=82159\n",
      "2023-01-22 16:58:34 [info     ] iteration                      infosets=4735 it=330 touched=85408\n",
      "2023-01-22 16:58:36 [info     ] iteration                      infosets=4778 it=340 touched=88130\n",
      "2023-01-22 16:58:39 [info     ] iteration                      infosets=4817 it=350 touched=90945\n",
      "2023-01-22 16:58:40 [info     ] iteration                      infosets=4851 it=360 touched=93345\n",
      "2023-01-22 16:58:42 [info     ] iteration                      infosets=4880 it=370 touched=95830\n",
      "2023-01-22 16:58:45 [info     ] iteration                      infosets=4910 it=380 touched=98745\n",
      "2023-01-22 16:58:47 [info     ] iteration                      infosets=4955 it=390 touched=101608\n",
      "2023-01-22 16:58:50 [info     ] iteration                      infosets=4981 it=400 touched=104253\n",
      "2023-01-22 16:58:52 [info     ] iteration                      infosets=5009 it=410 touched=107352\n",
      "2023-01-22 16:58:55 [info     ] iteration                      infosets=5031 it=420 touched=110072\n",
      "2023-01-22 16:58:57 [info     ] iteration                      infosets=5087 it=430 touched=113187\n",
      "2023-01-22 16:58:59 [info     ] iteration                      infosets=5123 it=440 touched=115526\n",
      "2023-01-22 16:59:02 [info     ] iteration                      infosets=5156 it=450 touched=119031\n",
      "2023-01-22 16:59:04 [info     ] iteration                      infosets=5170 it=460 touched=121352\n",
      "2023-01-22 16:59:06 [info     ] iteration                      infosets=5192 it=470 touched=123696\n",
      "2023-01-22 16:59:08 [info     ] iteration                      infosets=5231 it=480 touched=126772\n",
      "2023-01-22 16:59:10 [info     ] iteration                      infosets=5254 it=490 touched=129191\n",
      "2023-01-22 16:59:12 [info     ] iteration                      infosets=5269 it=500 touched=131596\n",
      "2023-01-22 16:59:15 [info     ] iteration                      infosets=5298 it=510 touched=134772\n",
      "2023-01-22 16:59:17 [info     ] iteration                      infosets=5321 it=520 touched=137717\n",
      "2023-01-22 16:59:20 [info     ] iteration                      infosets=5344 it=530 touched=141197\n",
      "2023-01-22 16:59:22 [info     ] iteration                      infosets=5358 it=540 touched=143774\n",
      "2023-01-22 16:59:24 [info     ] iteration                      infosets=5372 it=550 touched=145873\n",
      "2023-01-22 16:59:26 [info     ] iteration                      infosets=5392 it=560 touched=148549\n",
      "2023-01-22 16:59:28 [info     ] iteration                      infosets=5423 it=570 touched=151203\n",
      "2023-01-22 16:59:31 [info     ] iteration                      infosets=5442 it=580 touched=154241\n",
      "2023-01-22 16:59:33 [info     ] iteration                      infosets=5457 it=590 touched=156878\n",
      "2023-01-22 16:59:35 [info     ] iteration                      infosets=5465 it=600 touched=159570\n",
      "2023-01-22 16:59:37 [info     ] iteration                      infosets=5488 it=610 touched=162127\n",
      "2023-01-22 16:59:40 [info     ] iteration                      infosets=5502 it=620 touched=164848\n",
      "2023-01-22 16:59:42 [info     ] iteration                      infosets=5512 it=630 touched=167484\n",
      "2023-01-22 16:59:44 [info     ] iteration                      infosets=5521 it=640 touched=170295\n",
      "2023-01-22 16:59:46 [info     ] iteration                      infosets=5547 it=650 touched=172884\n",
      "2023-01-22 16:59:49 [info     ] iteration                      infosets=5564 it=660 touched=175742\n",
      "2023-01-22 16:59:51 [info     ] iteration                      infosets=5601 it=670 touched=178836\n",
      "2023-01-22 16:59:54 [info     ] iteration                      infosets=5618 it=680 touched=181920\n",
      "2023-01-22 16:59:56 [info     ] iteration                      infosets=5624 it=690 touched=184217\n",
      "2023-01-22 16:59:57 [info     ] iteration                      infosets=5625 it=700 touched=186177\n",
      "2023-01-22 16:59:59 [info     ] iteration                      infosets=5644 it=710 touched=188547\n",
      "2023-01-22 17:00:01 [info     ] iteration                      infosets=5645 it=720 touched=190550\n",
      "2023-01-22 17:00:03 [info     ] iteration                      infosets=5661 it=730 touched=193516\n",
      "2023-01-22 17:00:06 [info     ] iteration                      infosets=5683 it=740 touched=196983\n",
      "2023-01-22 17:00:08 [info     ] iteration                      infosets=5694 it=750 touched=199243\n",
      "2023-01-22 17:00:10 [info     ] iteration                      infosets=5703 it=760 touched=201517\n",
      "2023-01-22 17:00:11 [info     ] iteration                      infosets=5709 it=770 touched=203425\n",
      "2023-01-22 17:00:14 [info     ] iteration                      infosets=5714 it=780 touched=206269\n",
      "2023-01-22 17:00:16 [info     ] iteration                      infosets=5722 it=790 touched=208654\n",
      "2023-01-22 17:00:17 [info     ] iteration                      infosets=5734 it=800 touched=210712\n",
      "2023-01-22 17:00:20 [info     ] iteration                      infosets=5742 it=810 touched=213244\n",
      "2023-01-22 17:00:22 [info     ] iteration                      infosets=5750 it=820 touched=215834\n",
      "2023-01-22 17:00:23 [info     ] iteration                      infosets=5773 it=830 touched=218031\n",
      "2023-01-22 17:00:25 [info     ] iteration                      infosets=5782 it=840 touched=220357\n",
      "2023-01-22 17:00:27 [info     ] iteration                      infosets=5801 it=850 touched=222834\n",
      "2023-01-22 17:00:30 [info     ] iteration                      infosets=5819 it=860 touched=225477\n",
      "2023-01-22 17:00:32 [info     ] iteration                      infosets=5823 it=870 touched=228816\n"
     ]
    },
    {
     "ename": "KeyboardInterrupt",
     "evalue": "",
     "output_type": "error",
     "traceback": [
      "\u001b[0;31m---------------------------------------------------------------------------\u001b[0m",
      "\u001b[0;31mKeyboardInterrupt\u001b[0m                         Traceback (most recent call last)",
      "Cell \u001b[0;32mIn [8], line 1\u001b[0m\n\u001b[0;32m----> 1\u001b[0m runner\u001b[39m.\u001b[39;49mrun()\n",
      "File \u001b[0;32m~/code/pkr/cfr/src/cfrpy/algorithms/algo.py:48\u001b[0m, in \u001b[0;36mRunner.run\u001b[0;34m(self)\u001b[0m\n\u001b[1;32m     45\u001b[0m checkpt \u001b[39m=\u001b[39m \u001b[39mself\u001b[39m\u001b[39m.\u001b[39mcheckpt\n\u001b[1;32m     47\u001b[0m \u001b[39mfor\u001b[39;00m it \u001b[39min\u001b[39;00m \u001b[39mrange\u001b[39m(\u001b[39mself\u001b[39m\u001b[39m.\u001b[39muntil):\n\u001b[0;32m---> 48\u001b[0m     impl\u001b[39m.\u001b[39;49m_run_iteration(game)\n\u001b[1;32m     50\u001b[0m     \u001b[39mif\u001b[39;00m \u001b[39mnot\u001b[39;00m it \u001b[39m%\u001b[39m \u001b[39m10\u001b[39m:\n\u001b[1;32m     51\u001b[0m         logger\u001b[39m.\u001b[39minfo(\n\u001b[1;32m     52\u001b[0m             \u001b[39m\"\u001b[39m\u001b[39miteration\u001b[39m\u001b[39m\"\u001b[39m,\n\u001b[1;32m     53\u001b[0m             it\u001b[39m=\u001b[39mit,\n\u001b[1;32m     54\u001b[0m             touched\u001b[39m=\u001b[39mimpl\u001b[39m.\u001b[39mtouched,\n\u001b[1;32m     55\u001b[0m             infosets\u001b[39m=\u001b[39m\u001b[39mlen\u001b[39m(impl\u001b[39m.\u001b[39mregrets),\n\u001b[1;32m     56\u001b[0m         )\n",
      "File \u001b[0;32m~/code/pkr/cfr/src/cfrpy/algorithms/lcfr.py:28\u001b[0m, in \u001b[0;36mESLCFR._run_iteration\u001b[0;34m(self, game)\u001b[0m\n\u001b[1;32m     26\u001b[0m \u001b[39mdef\u001b[39;00m \u001b[39m_run_iteration\u001b[39m(\u001b[39mself\u001b[39m, game: Callable[[], Game[A_inv, I]]):\n\u001b[1;32m     27\u001b[0m     \u001b[39mfor\u001b[39;00m p \u001b[39min\u001b[39;00m (\u001b[39m0\u001b[39m, \u001b[39m1\u001b[39m):\n\u001b[0;32m---> 28\u001b[0m         \u001b[39mself\u001b[39;49m\u001b[39m.\u001b[39;49mwalk(game(), cast(Player, p), \u001b[39mself\u001b[39;49m\u001b[39m.\u001b[39;49mregrets, \u001b[39mself\u001b[39;49m\u001b[39m.\u001b[39;49mstrategies)\n\u001b[1;32m     30\u001b[0m     \u001b[39mif\u001b[39;00m \u001b[39mself\u001b[39m\u001b[39m.\u001b[39m_touched \u001b[39m>\u001b[39m \u001b[39mself\u001b[39m\u001b[39m.\u001b[39mthreshold:\n\u001b[1;32m     31\u001b[0m         \u001b[39mself\u001b[39m\u001b[39m.\u001b[39m_touched \u001b[39m=\u001b[39m \u001b[39m0\u001b[39m\n",
      "File \u001b[0;32m~/code/pkr/cfr/src/cfrpy/algorithms/lcfr.py:61\u001b[0m, in \u001b[0;36mESLCFR.walk\u001b[0;34m(self, game, player, regrets, strategies)\u001b[0m\n\u001b[1;32m     59\u001b[0m \u001b[39mif\u001b[39;00m game\u001b[39m.\u001b[39mchance:\n\u001b[1;32m     60\u001b[0m     action \u001b[39m=\u001b[39m game\u001b[39m.\u001b[39msample()\n\u001b[0;32m---> 61\u001b[0m     \u001b[39mreturn\u001b[39;00m \u001b[39mself\u001b[39;49m\u001b[39m.\u001b[39;49mwalk(game\u001b[39m.\u001b[39;49mapply(action), player, regrets, strategies)\n\u001b[1;32m     63\u001b[0m infoset \u001b[39m=\u001b[39m game\u001b[39m.\u001b[39minfoset(game\u001b[39m.\u001b[39mactive)\n\u001b[1;32m     64\u001b[0m actions \u001b[39m=\u001b[39m infoset\u001b[39m.\u001b[39mactions()\n",
      "File \u001b[0;32m~/code/pkr/cfr/src/cfrpy/algorithms/lcfr.py:61\u001b[0m, in \u001b[0;36mESLCFR.walk\u001b[0;34m(self, game, player, regrets, strategies)\u001b[0m\n\u001b[1;32m     59\u001b[0m \u001b[39mif\u001b[39;00m game\u001b[39m.\u001b[39mchance:\n\u001b[1;32m     60\u001b[0m     action \u001b[39m=\u001b[39m game\u001b[39m.\u001b[39msample()\n\u001b[0;32m---> 61\u001b[0m     \u001b[39mreturn\u001b[39;00m \u001b[39mself\u001b[39;49m\u001b[39m.\u001b[39;49mwalk(game\u001b[39m.\u001b[39;49mapply(action), player, regrets, strategies)\n\u001b[1;32m     63\u001b[0m infoset \u001b[39m=\u001b[39m game\u001b[39m.\u001b[39minfoset(game\u001b[39m.\u001b[39mactive)\n\u001b[1;32m     64\u001b[0m actions \u001b[39m=\u001b[39m infoset\u001b[39m.\u001b[39mactions()\n",
      "File \u001b[0;32m~/code/pkr/cfr/src/cfrpy/algorithms/lcfr.py:89\u001b[0m, in \u001b[0;36mESLCFR.walk\u001b[0;34m(self, game, player, regrets, strategies)\u001b[0m\n\u001b[1;32m     86\u001b[0m value \u001b[39m=\u001b[39m \u001b[39m0\u001b[39m\n\u001b[1;32m     88\u001b[0m \u001b[39mfor\u001b[39;00m action, p \u001b[39min\u001b[39;00m \u001b[39mzip\u001b[39m(actions, strategy):\n\u001b[0;32m---> 89\u001b[0m     cf \u001b[39m=\u001b[39m \u001b[39mself\u001b[39;49m\u001b[39m.\u001b[39;49mwalk(game\u001b[39m.\u001b[39;49mapply(action), player, regrets, strategies)\n\u001b[1;32m     90\u001b[0m     cfs[action] \u001b[39m=\u001b[39m cf\n\u001b[1;32m     91\u001b[0m     value \u001b[39m+\u001b[39m\u001b[39m=\u001b[39m p \u001b[39m*\u001b[39m cf\n",
      "File \u001b[0;32m~/code/pkr/cfr/src/cfrpy/algorithms/lcfr.py:66\u001b[0m, in \u001b[0;36mESLCFR.walk\u001b[0;34m(self, game, player, regrets, strategies)\u001b[0m\n\u001b[1;32m     63\u001b[0m infoset \u001b[39m=\u001b[39m game\u001b[39m.\u001b[39minfoset(game\u001b[39m.\u001b[39mactive)\n\u001b[1;32m     64\u001b[0m actions \u001b[39m=\u001b[39m infoset\u001b[39m.\u001b[39mactions()\n\u001b[0;32m---> 66\u001b[0m \u001b[39mif\u001b[39;00m infoset \u001b[39mnot\u001b[39;49;00m \u001b[39min\u001b[39;49;00m regrets:\n\u001b[1;32m     67\u001b[0m     regrets[infoset] \u001b[39m=\u001b[39m {action: \u001b[39m0\u001b[39m \u001b[39mfor\u001b[39;00m action \u001b[39min\u001b[39;00m actions}\n\u001b[1;32m     68\u001b[0m \u001b[39mif\u001b[39;00m infoset \u001b[39mnot\u001b[39;00m \u001b[39min\u001b[39;00m strategies:\n",
      "File \u001b[0;32m~/code/pkr/cfr/src/cfrpy/abstraction.py:85\u001b[0m, in \u001b[0;36m_InfoSet.__hash__\u001b[0;34m(self)\u001b[0m\n\u001b[1;32m     84\u001b[0m \u001b[39mdef\u001b[39;00m \u001b[39m__hash__\u001b[39m(\u001b[39mself\u001b[39m):\n\u001b[0;32m---> 85\u001b[0m     \u001b[39mreturn\u001b[39;00m \u001b[39mhash\u001b[39m(\u001b[39mself\u001b[39;49m\u001b[39m.\u001b[39;49m_state)\n",
      "File \u001b[0;32m~/code/pkr/cfr/src/cfrpy/abstraction.py:79\u001b[0m, in \u001b[0;36m_InfoSet._state\u001b[0;34m(self)\u001b[0m\n\u001b[1;32m     77\u001b[0m \u001b[39m@property\u001b[39m\n\u001b[1;32m     78\u001b[0m \u001b[39mdef\u001b[39;00m \u001b[39m_state\u001b[39m(\u001b[39mself\u001b[39m):\n\u001b[0;32m---> 79\u001b[0m     \u001b[39mreturn\u001b[39;00m \u001b[39mself\u001b[39;49m\u001b[39m.\u001b[39;49mstate(\u001b[39mself\u001b[39;49m\u001b[39m.\u001b[39;49m_infoset)\n",
      "File \u001b[0;32m~/code/pkr/cfr/src/cfrpy/abstraction.py:57\u001b[0m, in \u001b[0;36m_ProductStateAbstraction.__call__\u001b[0;34m(self, infoset)\u001b[0m\n\u001b[1;32m     56\u001b[0m \u001b[39mdef\u001b[39;00m \u001b[39m__call__\u001b[39m(\u001b[39mself\u001b[39m, infoset: InfoSet[A_con]) \u001b[39m-\u001b[39m\u001b[39m>\u001b[39m Hashable:\n\u001b[0;32m---> 57\u001b[0m     \u001b[39mreturn\u001b[39;00m \u001b[39mtuple\u001b[39;49m(a(infoset) \u001b[39mfor\u001b[39;49;00m a \u001b[39min\u001b[39;49;00m \u001b[39mself\u001b[39;49m\u001b[39m.\u001b[39;49mabstractions)\n",
      "File \u001b[0;32m~/code/pkr/cfr/src/cfrpy/abstraction.py:57\u001b[0m, in \u001b[0;36m<genexpr>\u001b[0;34m(.0)\u001b[0m\n\u001b[1;32m     56\u001b[0m \u001b[39mdef\u001b[39;00m \u001b[39m__call__\u001b[39m(\u001b[39mself\u001b[39m, infoset: InfoSet[A_con]) \u001b[39m-\u001b[39m\u001b[39m>\u001b[39m Hashable:\n\u001b[0;32m---> 57\u001b[0m     \u001b[39mreturn\u001b[39;00m \u001b[39mtuple\u001b[39m(a(infoset) \u001b[39mfor\u001b[39;00m a \u001b[39min\u001b[39;00m \u001b[39mself\u001b[39m\u001b[39m.\u001b[39mabstractions)\n",
      "File \u001b[0;32m~/code/pkr/cfr/src/cfrpy/abstraction.py:44\u001b[0m, in \u001b[0;36malgebraic.<locals>._Algebraic.__call__\u001b[0;34m(self, infoset)\u001b[0m\n\u001b[1;32m     43\u001b[0m \u001b[39mdef\u001b[39;00m \u001b[39m__call__\u001b[39m(\u001b[39mself\u001b[39m, infoset: InfoSet[A_con]) \u001b[39m-\u001b[39m\u001b[39m>\u001b[39m H:\n\u001b[0;32m---> 44\u001b[0m     \u001b[39mreturn\u001b[39;00m state(infoset)\n",
      "File \u001b[0;32m~/code/pkr/cfr/src/cfrpy/pkr/abstraction/abstractions.py:41\u001b[0m, in \u001b[0;36mehs.<locals>.inner\u001b[0;34m(infoset)\u001b[0m\n\u001b[1;32m     39\u001b[0m hand \u001b[39m=\u001b[39m (_cards[infoset\u001b[39m.\u001b[39mhand[\u001b[39m0\u001b[39m]], _cards[infoset\u001b[39m.\u001b[39mhand[\u001b[39m1\u001b[39m]])\n\u001b[1;32m     40\u001b[0m community \u001b[39m=\u001b[39m \u001b[39mtuple\u001b[39m(_cards[i] \u001b[39mfor\u001b[39;00m i \u001b[39min\u001b[39;00m infoset\u001b[39m.\u001b[39mcommunity)\n\u001b[0;32m---> 41\u001b[0m strength \u001b[39m=\u001b[39m hs(hand, community, \u001b[39m200\u001b[39;49m)\n\u001b[1;32m     42\u001b[0m \u001b[39mreturn\u001b[39;00m \u001b[39mround\u001b[39m(strength \u001b[39m*\u001b[39m buckets)\n",
      "File \u001b[0;32m~/code/pkr/cfr/src/cfrpy/pkr/abstraction/hands.py:42\u001b[0m, in \u001b[0;36mhs\u001b[0;34m(hand, community, maxiter)\u001b[0m\n\u001b[1;32m     40\u001b[0m sco \u001b[39m=\u001b[39m \u001b[39m0\u001b[39m\n\u001b[1;32m     41\u001b[0m \u001b[39mfor\u001b[39;00m _ \u001b[39min\u001b[39;00m \u001b[39mrange\u001b[39m(maxiter):\n\u001b[0;32m---> 42\u001b[0m     other, completion \u001b[39m=\u001b[39m _draw(community, cards)\n\u001b[1;32m     43\u001b[0m     us \u001b[39m=\u001b[39m eval7\u001b[39m.\u001b[39mevaluate(hand \u001b[39m+\u001b[39m completion)\n\u001b[1;32m     44\u001b[0m     op \u001b[39m=\u001b[39m eval7\u001b[39m.\u001b[39mevaluate(other \u001b[39m+\u001b[39m completion)\n",
      "File \u001b[0;32m~/code/pkr/cfr/src/cfrpy/pkr/abstraction/hands.py:27\u001b[0m, in \u001b[0;36m_draw\u001b[0;34m(community, cards)\u001b[0m\n\u001b[1;32m     25\u001b[0m     \u001b[39mif\u001b[39;00m (i \u001b[39m>\u001b[39m\u001b[39m=\u001b[39m \u001b[39m1\u001b[39m \u001b[39mand\u001b[39;00m \u001b[39mlen\u001b[39m(community) \u001b[39m>\u001b[39m \u001b[39m0\u001b[39m) \u001b[39mor\u001b[39;00m i \u001b[39m>\u001b[39m \u001b[39m1\u001b[39m:\n\u001b[1;32m     26\u001b[0m         last \u001b[39m=\u001b[39m community[\u001b[39m-\u001b[39m\u001b[39m1\u001b[39m] \u001b[39mif\u001b[39;00m i \u001b[39m==\u001b[39m \u001b[39m1\u001b[39m \u001b[39melse\u001b[39;00m cards[i]\n\u001b[0;32m---> 27\u001b[0m         \u001b[39mif\u001b[39;00m \u001b[39mlen\u001b[39;49m(community) \u001b[39m+\u001b[39m i \u001b[39m-\u001b[39m \u001b[39m1\u001b[39m \u001b[39m>\u001b[39m\u001b[39m=\u001b[39m \u001b[39m5\u001b[39m \u001b[39mand\u001b[39;00m last\u001b[39m.\u001b[39msuit \u001b[39mnot\u001b[39;00m \u001b[39min\u001b[39;00m (\u001b[39m1\u001b[39m, \u001b[39m2\u001b[39m):\n\u001b[1;32m     28\u001b[0m             \u001b[39mbreak\u001b[39;00m\n\u001b[1;32m     30\u001b[0m \u001b[39mreturn\u001b[39;00m \u001b[39mtuple\u001b[39m(cards[:\u001b[39m2\u001b[39m]), community \u001b[39m+\u001b[39m \u001b[39mtuple\u001b[39m(cards[\u001b[39m2\u001b[39m : i \u001b[39m+\u001b[39m \u001b[39m1\u001b[39m])\n",
      "\u001b[0;31mKeyboardInterrupt\u001b[0m: "
     ]
    }
   ],
   "source": [
    "runner.run()"
   ]
  }
 ],
 "metadata": {
  "kernelspec": {
   "display_name": "clean",
   "language": "python",
   "name": "python3"
  },
  "language_info": {
   "codemirror_mode": {
    "name": "ipython",
    "version": 3
   },
   "file_extension": ".py",
   "mimetype": "text/x-python",
   "name": "python",
   "nbconvert_exporter": "python",
   "pygments_lexer": "ipython3",
   "version": "3.10.8"
  },
  "orig_nbformat": 4,
  "vscode": {
   "interpreter": {
    "hash": "7ac02b84f0b2c07ad9d596dfc0dd5b68046a23d9882df65ad98f7b44c27b887b"
   }
  }
 },
 "nbformat": 4,
 "nbformat_minor": 2
}
