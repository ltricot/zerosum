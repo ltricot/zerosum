{
 "cells": [
  {
   "cell_type": "code",
   "execution_count": 6,
   "metadata": {},
   "outputs": [],
   "source": [
    "from typing import cast\n",
    "\n",
    "from cfrpy.pkr.game import RiverOfBlood, Fold, Call\n",
    "from cfrpy.pkr.abstraction.versions.v2 import Abstraction\n",
    "from cfrpy.cfrplus import eswalkplus\n",
    "from cfrpy.escfr import eswalk\n",
    "from cfrpy.cfr import walk\n",
    "from cfrpy.game import Player, mc, play"
   ]
  },
  {
   "cell_type": "code",
   "execution_count": 7,
   "metadata": {},
   "outputs": [
    {
     "data": {
      "text/plain": [
       "(Fold(), Call(), Bet(bet=4), Bet(bet=8), Bet(bet=20), Bet(bet=40), Bet(bet=60))"
      ]
     },
     "execution_count": 7,
     "metadata": {},
     "output_type": "execute_result"
    }
   ],
   "source": [
    "g = Abstraction()\n",
    "g = g.apply(g.sample())\n",
    "g = g.apply(g.sample())\n",
    "\n",
    "g.infoset(g.active).actions()"
   ]
  },
  {
   "cell_type": "code",
   "execution_count": 8,
   "metadata": {},
   "outputs": [
    {
     "data": {
      "text/plain": [
       "[Draw(hand=(Card(\"Tc\"), Card(\"3s\"))),\n",
       " Draw(hand=(Card(\"5h\"), Card(\"2h\"))),\n",
       " Bet(bet=4),\n",
       " Bet(bet=8),\n",
       " Fold()]"
      ]
     },
     "execution_count": 8,
     "metadata": {},
     "output_type": "execute_result"
    }
   ],
   "source": [
    "list(mc(Abstraction()))"
   ]
  },
  {
   "cell_type": "code",
   "execution_count": 9,
   "metadata": {},
   "outputs": [],
   "source": [
    "regrets = {}\n",
    "strategies = {}\n",
    "start = 1"
   ]
  },
  {
   "cell_type": "code",
   "execution_count": 19,
   "metadata": {},
   "outputs": [
    {
     "name": "stdout",
     "output_type": "stream",
     "text": [
      "24370\t27623\r"
     ]
    }
   ],
   "source": [
    "import sys\n",
    "\n",
    "T = 100000\n",
    "\n",
    "t = start\n",
    "try:\n",
    "    for t in range(start, T):\n",
    "        for i in range(2):\n",
    "            eswalkplus(Abstraction(), cast(Player, i), regrets, strategies, t)\n",
    "            print(f\"{t}\\t{len(strategies)}\", end=\"\\r\")\n",
    "            sys.stdout.flush()\n",
    "except KeyboardInterrupt:\n",
    "    pass\n",
    "finally:\n",
    "    start = t"
   ]
  },
  {
   "cell_type": "code",
   "execution_count": 11,
   "metadata": {},
   "outputs": [],
   "source": [
    "import numpy as np\n",
    "\n",
    "\n",
    "def normalize(dct):\n",
    "    denom = sum(dct.values())\n",
    "    if denom <= 0:\n",
    "        return {k: 1 / len(dct) for k in dct}\n",
    "    return {k: v / denom for k, v in dct.items()}\n",
    "\n",
    "\n",
    "def play(game, strategies, player):\n",
    "    unknowns = 0\n",
    "    while not game.terminal:\n",
    "        if game.chance:\n",
    "            action = game.sample()\n",
    "        else:\n",
    "            infoset = game.infoset(game.active)\n",
    "            actions = infoset.actions()\n",
    "\n",
    "            if infoset in strategies and game.active == player:\n",
    "                s = strategies[infoset]\n",
    "                action = np.random.choice(list(s), p=list(normalize(s).values()))\n",
    "                # action = max(actions, key=lambda a: strategies[infoset].get(a, 0))\n",
    "            else:\n",
    "                if game.active == player:\n",
    "                    unknowns += 1\n",
    "\n",
    "                actions = infoset.actions()\n",
    "                action = np.random.choice(actions)\n",
    "\n",
    "                while isinstance(action, Fold):\n",
    "                    action = np.random.choice(actions)\n",
    "\n",
    "        game = game.apply(action)\n",
    "    \n",
    "    return game.payoff(player), unknowns"
   ]
  },
  {
   "cell_type": "code",
   "execution_count": 12,
   "metadata": {},
   "outputs": [
    {
     "data": {
      "text/plain": [
       "(-42, 0)"
      ]
     },
     "execution_count": 12,
     "metadata": {},
     "output_type": "execute_result"
    }
   ],
   "source": [
    "play(Abstraction(), strategies, 0)"
   ]
  },
  {
   "cell_type": "code",
   "execution_count": 13,
   "metadata": {},
   "outputs": [],
   "source": [
    "import matplotlib.pyplot as plt"
   ]
  },
  {
   "cell_type": "code",
   "execution_count": 20,
   "metadata": {},
   "outputs": [
    {
     "data": {
      "text/plain": [
       "0"
      ]
     },
     "execution_count": 20,
     "metadata": {},
     "output_type": "execute_result"
    }
   ],
   "source": [
    "N = 1500\n",
    "\n",
    "payoffs = []\n",
    "unks = 0\n",
    "for k in range(N):\n",
    "    pay, unk = play(Abstraction(), strategies, 0)\n",
    "    payoffs.append(pay)\n",
    "    unks += unk\n",
    "\n",
    "unks"
   ]
  },
  {
   "cell_type": "code",
   "execution_count": 21,
   "metadata": {},
   "outputs": [
    {
     "data": {
      "image/png": "[encoded data removed]",
      "text/plain": [
       "<Figure size 640x480 with 1 Axes>"
      ]
     },
     "metadata": {},
     "output_type": "display_data"
    }
   ],
   "source": [
    "plt.hist(payoffs, bins=100);"
   ]
  },
  {
   "cell_type": "code",
   "execution_count": 22,
   "metadata": {},
   "outputs": [
    {
     "data": {
      "text/plain": [
       "1.8406666666666667"
      ]
     },
     "execution_count": 22,
     "metadata": {},
     "output_type": "execute_result"
    }
   ],
   "source": [
    "np.mean(payoffs)"
   ]
  }
 ],
 "metadata": {
  "kernelspec": {
   "display_name": "clean",
   "language": "python",
   "name": "python3"
  },
  "language_info": {
   "codemirror_mode": {
    "name": "ipython",
    "version": 3
   },
   "file_extension": ".py",
   "mimetype": "text/x-python",
   "name": "python",
   "nbconvert_exporter": "python",
   "pygments_lexer": "ipython3",
   "version": "3.10.8"
  },
  "orig_nbformat": 4,
  "vscode": {
   "interpreter": {
    "hash": "7ac02b84f0b2c07ad9d596dfc0dd5b68046a23d9882df65ad98f7b44c27b887b"
   }
  }
 },
 "nbformat": 4,
 "nbformat_minor": 2
}
