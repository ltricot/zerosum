{
 "cells": [
  {
   "cell_type": "code",
   "execution_count": 1,
   "metadata": {},
   "outputs": [],
   "source": [
    "from typing import cast\n",
    "\n",
    "from cfrpy.pkr.game import RiverOfBlood, Fold\n",
    "from cfrpy.pkr.abstraction.game import RiverOfBlood as Abstraction\n",
    "from cfrpy.escfr import eswalk\n",
    "from cfrpy.cfr import walk\n",
    "from cfrpy.game import Player, mc, play"
   ]
  },
  {
   "cell_type": "code",
   "execution_count": 2,
   "metadata": {},
   "outputs": [
    {
     "data": {
      "text/plain": [
       "[Draw(hand=(Card(\"Ah\"), Card(\"3d\"))),\n",
       " Draw(hand=(Card(\"7d\"), Card(\"Ts\"))),\n",
       " Bet(bet=16),\n",
       " Call(),\n",
       " Flop(cards=(Card(\"8h\"), Card(\"Kh\"), Card(\"7h\"))),\n",
       " Check(),\n",
       " Check(),\n",
       " Turn(cards=(Card(\"8d\"),)),\n",
       " Bet(bet=4),\n",
       " Bet(bet=16),\n",
       " Call(),\n",
       " River(cards=(Card(\"Qh\"),)),\n",
       " Bet(bet=4),\n",
       " Call(),\n",
       " Run(cards=(Card(\"8s\"),)),\n",
       " Bet(bet=4),\n",
       " Bet(bet=16),\n",
       " Fold()]"
      ]
     },
     "execution_count": 2,
     "metadata": {},
     "output_type": "execute_result"
    }
   ],
   "source": [
    "list(mc(Abstraction()))"
   ]
  },
  {
   "cell_type": "code",
   "execution_count": 3,
   "metadata": {},
   "outputs": [],
   "source": [
    "from rich.progress import Progress\n",
    "from rich import print as rprint"
   ]
  },
  {
   "cell_type": "code",
   "execution_count": 4,
   "metadata": {},
   "outputs": [],
   "source": [
    "regrets = {}\n",
    "strategies = {}"
   ]
  },
  {
   "cell_type": "code",
   "execution_count": 17,
   "metadata": {},
   "outputs": [
    {
     "name": "stdout",
     "output_type": "stream",
     "text": [
      "147\r"
     ]
    }
   ],
   "source": [
    "import sys\n",
    "\n",
    "T = 10000\n",
    "\n",
    "try:\n",
    "    for t in range(T):\n",
    "        for i in range(2):\n",
    "            eswalk(Abstraction(), cast(Player, i), regrets, strategies)\n",
    "            print(f\"{len(strategies)}\", end=\"\\r\")\n",
    "            sys.stdout.flush()\n",
    "except KeyboardInterrupt:\n",
    "    pass"
   ]
  },
  {
   "cell_type": "code",
   "execution_count": null,
   "metadata": {},
   "outputs": [],
   "source": [
    "[i._abstraction for i in strategies]"
   ]
  },
  {
   "cell_type": "code",
   "execution_count": 12,
   "metadata": {},
   "outputs": [],
   "source": [
    "import numpy as np\n",
    "\n",
    "\n",
    "def normalize(dct):\n",
    "    denom = sum(dct.values())\n",
    "    if denom <= 0:\n",
    "        return {k: 1 / len(dct) for k in dct}\n",
    "    return {k: v / denom for k, v in dct.items()}\n",
    "\n",
    "\n",
    "def play(game, strategies, player):\n",
    "    while not game.terminal:\n",
    "        if game.chance:\n",
    "            action = game.sample()\n",
    "        else:\n",
    "            infoset = game.infoset(game.active)\n",
    "            actions = infoset.actions()\n",
    "\n",
    "            if infoset in strategies and game.active == player:\n",
    "                # p = np.asarray(list(normalize(strategies[infoset]).values()))\n",
    "                # rprint(\"[cyan]STRATEGY[/cyan]\", normalize(strategies[infoset]))\n",
    "                # action = np.random.choice(actions, p=p)\n",
    "                action = max(actions, key=lambda a: strategies[infoset].get(a, 0))\n",
    "            else:\n",
    "                if game.active == player:\n",
    "                    # print(\"UNKNOWN\")\n",
    "                    ...\n",
    "                else:\n",
    "                    # rprint(\"OPPONENT PLAYING RANDOMLY\")\n",
    "                    ...\n",
    "                actions = infoset.actions()\n",
    "                action = np.random.choice(actions)\n",
    "                while isinstance(action, Fold):\n",
    "                    action = np.random.choice(actions)\n",
    "\n",
    "        # rprint(\"[yellow]ACTION[/yellow]\", str(action))\n",
    "        game = game.apply(action)\n",
    "    \n",
    "    return game.payoff(player)"
   ]
  },
  {
   "cell_type": "code",
   "execution_count": 13,
   "metadata": {},
   "outputs": [],
   "source": [
    "import matplotlib.pyplot as plt"
   ]
  },
  {
   "cell_type": "code",
   "execution_count": 14,
   "metadata": {},
   "outputs": [],
   "source": [
    "N = 1000\n",
    "\n",
    "payoffs = []\n",
    "for k in range(N):\n",
    "    pay = play(Abstraction(), strategies, 0)\n",
    "    payoffs.append(pay)"
   ]
  },
  {
   "cell_type": "code",
   "execution_count": 15,
   "metadata": {},
   "outputs": [
    {
     "data": {
      "image/png": "[encoded data removed]",
      "text/plain": [
       "<Figure size 640x480 with 1 Axes>"
      ]
     },
     "metadata": {},
     "output_type": "display_data"
    }
   ],
   "source": [
    "plt.hist(payoffs, bins=50);"
   ]
  },
  {
   "cell_type": "code",
   "execution_count": 16,
   "metadata": {},
   "outputs": [
    {
     "data": {
      "text/plain": [
       "-0.533"
      ]
     },
     "execution_count": 16,
     "metadata": {},
     "output_type": "execute_result"
    }
   ],
   "source": [
    "np.mean(payoffs)"
   ]
  }
 ],
 "metadata": {
  "kernelspec": {
   "display_name": "clean",
   "language": "python",
   "name": "python3"
  },
  "language_info": {
   "codemirror_mode": {
    "name": "ipython",
    "version": 3
   },
   "file_extension": ".py",
   "mimetype": "text/x-python",
   "name": "python",
   "nbconvert_exporter": "python",
   "pygments_lexer": "ipython3",
   "version": "3.10.8"
  },
  "orig_nbformat": 4,
  "vscode": {
   "interpreter": {
    "hash": "7ac02b84f0b2c07ad9d596dfc0dd5b68046a23d9882df65ad98f7b44c27b887b"
   }
  }
 },
 "nbformat": 4,
 "nbformat_minor": 2
}
