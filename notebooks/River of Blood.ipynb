{
 "cells": [
  {
   "cell_type": "code",
   "execution_count": 31,
   "metadata": {},
   "outputs": [],
   "source": [
    "from typing import cast\n",
    "\n",
    "from cfr.pkr.game import RiverOfBlood\n",
    "from cfr.pkr.abstraction.game import RiverOfBlood as Abstraction\n",
    "from cfr.escfr import eswalk\n",
    "from cfr.cfr import walk\n",
    "from cfr.game import Player, mc"
   ]
  },
  {
   "cell_type": "code",
   "execution_count": 4,
   "metadata": {},
   "outputs": [
    {
     "data": {
      "text/plain": [
       "[Draw(hand=(Card(\"3s\"), Card(\"2h\"))),\n",
       " Draw(hand=(Card(\"Kd\"), Card(\"9h\"))),\n",
       " Call(),\n",
       " Check(),\n",
       " Bet(bet=6),\n",
       " Call(),\n",
       " Flop(cards=(Card(\"9c\"), Card(\"7d\"), Card(\"4d\"))),\n",
       " Bet(bet=215),\n",
       " Call(),\n",
       " Turn(cards=(Card(\"Qs\"),)),\n",
       " Check(),\n",
       " Bet(bet=177),\n",
       " Call(),\n",
       " River(cards=(Card(\"9d\"),)),\n",
       " Check(),\n",
       " Check(),\n",
       " Run(cards=(Card(\"As\"),)),\n",
       " Check(),\n",
       " Check()]"
      ]
     },
     "execution_count": 4,
     "metadata": {},
     "output_type": "execute_result"
    }
   ],
   "source": [
    "list(mc(Abstraction()))"
   ]
  },
  {
   "cell_type": "code",
   "execution_count": 14,
   "metadata": {},
   "outputs": [],
   "source": [
    "from tqdm import tqdm"
   ]
  },
  {
   "cell_type": "code",
   "execution_count": null,
   "metadata": {},
   "outputs": [],
   "source": [
    "regrets = {}\n",
    "strategies = {}"
   ]
  },
  {
   "cell_type": "code",
   "execution_count": 38,
   "metadata": {},
   "outputs": [
    {
     "name": "stderr",
     "output_type": "stream",
     "text": [
      " 35%|███▍      | 1726/5000 [03:42<08:02,  6.79it/s]"
     ]
    }
   ],
   "source": [
    "for _ in tqdm(range(5000)):\n",
    "    for i in range(2):\n",
    "        eswalk(Abstraction(), cast(Player, i), regrets, strategies)"
   ]
  },
  {
   "cell_type": "code",
   "execution_count": 37,
   "metadata": {},
   "outputs": [
    {
     "data": {
      "text/plain": [
       "82101"
      ]
     },
     "execution_count": 37,
     "metadata": {},
     "output_type": "execute_result"
    }
   ],
   "source": [
    "len(strategies)"
   ]
  },
  {
   "cell_type": "code",
   "execution_count": 25,
   "metadata": {},
   "outputs": [
    {
     "name": "stdout",
     "output_type": "stream",
     "text": [
      "Draw(hand=(Card(\"9h\"), Card(\"Js\")))\n",
      "Draw(hand=(Card(\"Kh\"), Card(\"Kd\")))\n",
      "((False, 7, 9), 0, 1, 0, (Fold(), Call(), Bet(bet=6), Bet(bet=36), Bet(bet=215), Bet(bet=399))) True\n",
      "Bet(bet=12)\n",
      "((False, 11, 11), 1, 1, 2, (Fold(), Call(), Bet(bet=36), Bet(bet=215), Bet(bet=398))) False\n",
      "Bet(bet=331)\n",
      "((False, 7, 9), 0, 1, 4, (Fold(), Call(), Bet(bet=387))) False\n",
      "Bet(bet=387)\n",
      "((False, 11, 11), 1, 1, 3, (Fold(), Call())) True\n",
      "Call()\n",
      "Flop(cards=(Card(\"5d\"), Card(\"5h\"), Card(\"4c\")))\n",
      "((False, 11, 11), 1, 4, -1, (Check(),)) True\n",
      "Check()\n",
      "((False, 7, 9), 0, 4, -1, (Check(),)) True\n",
      "Check()\n",
      "Turn(cards=(Card(\"5c\"),))\n",
      "((False, 11, 11), 1, 4, -1, (Check(),)) True\n",
      "Check()\n",
      "((False, 7, 9), 0, 4, -1, (Check(),)) True\n",
      "Check()\n",
      "River(cards=(Card(\"5s\"),))\n",
      "((False, 11, 11), 1, 4, -1, (Check(),)) True\n",
      "Check()\n",
      "((False, 7, 9), 0, 4, -1, (Check(),)) True\n",
      "Check()\n"
     ]
    }
   ],
   "source": [
    "for _ in range(1):\n",
    "    abstract = Abstraction()\n",
    "    for action in mc(RiverOfBlood()):\n",
    "        abstract = abstract.apply(action)\n",
    "        print(action)\n",
    "\n",
    "        if abstract.chance or abstract.terminal:\n",
    "            continue\n",
    "\n",
    "        infoset = abstract.infoset(abstract.active)\n",
    "        print(infoset._abstraction, infoset in strategies)"
   ]
  }
 ],
 "metadata": {
  "kernelspec": {
   "display_name": "clean",
   "language": "python",
   "name": "python3"
  },
  "language_info": {
   "codemirror_mode": {
    "name": "ipython",
    "version": 3
   },
   "file_extension": ".py",
   "mimetype": "text/x-python",
   "name": "python",
   "nbconvert_exporter": "python",
   "pygments_lexer": "ipython3",
   "version": "3.10.8"
  },
  "orig_nbformat": 4,
  "vscode": {
   "interpreter": {
    "hash": "7ac02b84f0b2c07ad9d596dfc0dd5b68046a23d9882df65ad98f7b44c27b887b"
   }
  }
 },
 "nbformat": 4,
 "nbformat_minor": 2
}
