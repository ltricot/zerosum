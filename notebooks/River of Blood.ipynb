{
 "cells": [
  {
   "cell_type": "code",
   "execution_count": 39,
   "metadata": {},
   "outputs": [],
   "source": [
    "from typing import cast\n",
    "\n",
    "from cfrpy.pkr.game import RiverOfBlood\n",
    "from cfrpy.pkr.abstraction.versions.v1 import RiverOfBlood as Abstraction\n",
    "from cfrpy.cfrplus import eswalkplus\n",
    "from cfrpy.escfr import eswalk\n",
    "from cfrpy.cfr import walk\n",
    "from cfrpy.game import Player, mc, play"
   ]
  },
  {
   "cell_type": "code",
   "execution_count": 40,
   "metadata": {},
   "outputs": [
    {
     "data": {
      "text/plain": [
       "(Fold(), Call(), Bet(bet=4), Bet(bet=8), Bet(bet=256))"
      ]
     },
     "execution_count": 40,
     "metadata": {},
     "output_type": "execute_result"
    }
   ],
   "source": [
    "g = Abstraction()\n",
    "g = g.apply(g.sample())\n",
    "g = g.apply(g.sample())\n",
    "\n",
    "g.infoset(0).actions()"
   ]
  },
  {
   "cell_type": "code",
   "execution_count": 41,
   "metadata": {},
   "outputs": [
    {
     "data": {
      "text/plain": [
       "[Draw(hand=(Card(\"5d\"), Card(\"4d\"))),\n",
       " Draw(hand=(Card(\"Tc\"), Card(\"Ad\"))),\n",
       " Bet(bet=8),\n",
       " Bet(bet=256),\n",
       " Call(),\n",
       " Flop(cards=(Card(\"8c\"), Card(\"Ks\"), Card(\"2h\"))),\n",
       " Bet(bet=4),\n",
       " Bet(bet=16),\n",
       " Fold()]"
      ]
     },
     "execution_count": 41,
     "metadata": {},
     "output_type": "execute_result"
    }
   ],
   "source": [
    "list(mc(Abstraction()))"
   ]
  },
  {
   "cell_type": "code",
   "execution_count": 42,
   "metadata": {},
   "outputs": [],
   "source": [
    "from rich.progress import Progress\n",
    "from rich import print as rprint"
   ]
  },
  {
   "cell_type": "code",
   "execution_count": 43,
   "metadata": {},
   "outputs": [],
   "source": [
    "regrets = {}\n",
    "strategies = {}"
   ]
  },
  {
   "cell_type": "code",
   "execution_count": 44,
   "metadata": {},
   "outputs": [],
   "source": [
    "from tqdm import tqdm"
   ]
  },
  {
   "cell_type": "code",
   "execution_count": 45,
   "metadata": {},
   "outputs": [],
   "source": [
    "start = 0"
   ]
  },
  {
   "cell_type": "code",
   "execution_count": 95,
   "metadata": {},
   "outputs": [
    {
     "name": "stdout",
     "output_type": "stream",
     "text": [
      "2679\t795\r"
     ]
    }
   ],
   "source": [
    "import sys\n",
    "\n",
    "T = 10000\n",
    "\n",
    "try:\n",
    "    for t in range(start, T):\n",
    "        for i in range(2):\n",
    "            eswalkplus(Abstraction(), cast(Player, i), regrets, strategies, t)\n",
    "            print(f\"{t}\\t{len(strategies)}\", end=\"\\r\")\n",
    "            sys.stdout.flush()\n",
    "except KeyboardInterrupt:\n",
    "    pass\n",
    "finally:\n",
    "    start = t"
   ]
  },
  {
   "cell_type": "code",
   "execution_count": 96,
   "metadata": {},
   "outputs": [
    {
     "data": {
      "text/plain": [
       "(InfoSet(chance=7, player=0, pot=4, bounds=(4, 256), nonbetactions=((Fold(), Call()), True), alreadybet=False),\n",
       " {Fold(): 1972.854639905649,\n",
       "  Call(): 35327.69932340366,\n",
       "  Bet(bet=4): 15665.018899353528,\n",
       "  Bet(bet=8): 94953.64584493187,\n",
       "  Bet(bet=256): 39967.7812924053})"
      ]
     },
     "execution_count": 96,
     "metadata": {},
     "output_type": "execute_result"
    }
   ],
   "source": [
    "chance = 0\n",
    "while chance != 7:\n",
    "    g = Abstraction()\n",
    "    g = g.apply(g.sample())\n",
    "    g = g.apply(g.sample())\n",
    "    infoset = g.infoset(g.active)\n",
    "    chance = infoset.chance\n",
    "\n",
    "infoset, strategies[infoset]"
   ]
  },
  {
   "cell_type": "code",
   "execution_count": 104,
   "metadata": {},
   "outputs": [],
   "source": [
    "import numpy as np\n",
    "\n",
    "\n",
    "def normalize(dct):\n",
    "    denom = sum(dct.values())\n",
    "    if denom <= 0:\n",
    "        return {k: 1 / len(dct) for k in dct}\n",
    "    return {k: v / denom for k, v in dct.items()}\n",
    "\n",
    "\n",
    "def play(game, strategies, player):\n",
    "    unknowns = 0\n",
    "    while not game.terminal:\n",
    "        if game.chance:\n",
    "            action = game.sample()\n",
    "        else:\n",
    "            infoset = game.infoset(game.active)\n",
    "            actions = infoset.actions()\n",
    "\n",
    "            if infoset in strategies and game.active == player:\n",
    "                # p = np.asarray(list(normalize(strategies[infoset]).values()))\n",
    "                # rprint(\"[cyan]STRATEGY[/cyan]\", normalize(strategies[infoset]))\n",
    "                # action = np.random.choice(actions, p=p)\n",
    "                action = max(actions, key=lambda a: strategies[infoset].get(a, 0))\n",
    "            else:\n",
    "                if game.active == player:\n",
    "                    unknowns += 1\n",
    "                    ...\n",
    "                else:\n",
    "                    # rprint(\"OPPONENT PLAYING RANDOMLY\")\n",
    "                    ...\n",
    "                actions = infoset.actions()\n",
    "                action = np.random.choice(actions)\n",
    "                while isinstance(action, Fold):\n",
    "                    action = np.random.choice(actions)\n",
    "\n",
    "        # rprint(\"[yellow]ACTION[/yellow]\", str(action))\n",
    "        game = game.apply(action)\n",
    "    \n",
    "    return game.payoff(player), unknowns"
   ]
  },
  {
   "cell_type": "code",
   "execution_count": 105,
   "metadata": {},
   "outputs": [],
   "source": [
    "import matplotlib.pyplot as plt"
   ]
  },
  {
   "cell_type": "code",
   "execution_count": 106,
   "metadata": {},
   "outputs": [],
   "source": [
    "N = 10000\n",
    "\n",
    "payoffs = []\n",
    "unks = 0\n",
    "for k in range(N):\n",
    "    pay, unk = play(Abstraction(), strategies, 0)\n",
    "    payoffs.append(pay)\n",
    "    unks += unk\n",
    "\n",
    "unks"
   ]
  },
  {
   "cell_type": "code",
   "execution_count": null,
   "metadata": {},
   "outputs": [
    {
     "data": {
      "image/png": "[encoded data removed]",
      "text/plain": [
       "<Figure size 640x480 with 1 Axes>"
      ]
     },
     "metadata": {},
     "output_type": "display_data"
    }
   ],
   "source": [
    "plt.hist(payoffs, bins=50);"
   ]
  },
  {
   "cell_type": "code",
   "execution_count": null,
   "metadata": {},
   "outputs": [
    {
     "data": {
      "text/plain": [
       "7.3441"
      ]
     },
     "execution_count": 103,
     "metadata": {},
     "output_type": "execute_result"
    }
   ],
   "source": [
    "np.mean(payoffs)"
   ]
  }
 ],
 "metadata": {
  "kernelspec": {
   "display_name": "clean",
   "language": "python",
   "name": "python3"
  },
  "language_info": {
   "codemirror_mode": {
    "name": "ipython",
    "version": 3
   },
   "file_extension": ".py",
   "mimetype": "text/x-python",
   "name": "python",
   "nbconvert_exporter": "python",
   "pygments_lexer": "ipython3",
   "version": "3.10.8"
  },
  "orig_nbformat": 4,
  "vscode": {
   "interpreter": {
    "hash": "7ac02b84f0b2c07ad9d596dfc0dd5b68046a23d9882df65ad98f7b44c27b887b"
   }
  }
 },
 "nbformat": 4,
 "nbformat_minor": 2
}
