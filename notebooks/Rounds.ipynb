{
 "cells": [
  {
   "cell_type": "code",
   "execution_count": 8,
   "metadata": {},
   "outputs": [],
   "source": [
    "from cfr.pkr.abstraction.rounds import PreFlop\n",
    "from cfr.pkr.abstraction.hands import hands\n",
    "from cfr.pkr.abstraction.hands import hs"
   ]
  },
  {
   "cell_type": "code",
   "execution_count": 9,
   "metadata": {},
   "outputs": [],
   "source": [
    "mapper = PreFlop()\n",
    "\n",
    "representatives = {}\n",
    "for hand in hands():\n",
    "    representatives[mapper.map(hand, ())] = hand"
   ]
  },
  {
   "cell_type": "code",
   "execution_count": 1,
   "metadata": {},
   "outputs": [
    {
     "data": {
      "text/plain": [
       "RiverOfBlood(history=(), community=(), active=0, stacks=(400, 400), pips=(1, 2), pot=3)"
      ]
     },
     "execution_count": 1,
     "metadata": {},
     "output_type": "execute_result"
    }
   ],
   "source": [
    "from cfr.pkr.game import RiverOfBlood, Bet, Call, Check, Fold\n",
    "\n",
    "\n",
    "game = RiverOfBlood()\n",
    "game"
   ]
  },
  {
   "cell_type": "code",
   "execution_count": 2,
   "metadata": {},
   "outputs": [
    {
     "data": {
      "text/plain": [
       "RiverOfBlood(history=(Draw(hand=(Card(\"2c\"), Card(\"2d\"))),), community=(), active=1, stacks=(400, 400), pips=(1, 2), pot=3)"
      ]
     },
     "execution_count": 2,
     "metadata": {},
     "output_type": "execute_result"
    }
   ],
   "source": [
    "chances = iter(game.chances())\n",
    "action = next(chances)\n",
    "second = game.apply(action)\n",
    "second"
   ]
  },
  {
   "cell_type": "code",
   "execution_count": 3,
   "metadata": {},
   "outputs": [
    {
     "data": {
      "text/plain": [
       "RiverOfBlood(history=(Draw(hand=(Card(\"2c\"), Card(\"2d\"))), Draw(hand=(Card(\"2h\"), Card(\"2s\")))), community=(), active=0, stacks=(400, 400), pips=(1, 2), pot=3)"
      ]
     },
     "execution_count": 3,
     "metadata": {},
     "output_type": "execute_result"
    }
   ],
   "source": [
    "chances = iter(second.chances())\n",
    "action = next(chances)\n",
    "third = second.apply(action)\n",
    "third"
   ]
  },
  {
   "cell_type": "code",
   "execution_count": null,
   "metadata": {},
   "outputs": [],
   "source": [
    "third.apply(Call()).infoset(1 - third.active).actions()"
   ]
  },
  {
   "cell_type": "code",
   "execution_count": 5,
   "metadata": {},
   "outputs": [
    {
     "name": "stdout",
     "output_type": "stream",
     "text": [
      "RiverOfBlood(history=(Draw(hand=(Card(\"2c\"), Card(\"2d\"))), Draw(hand=(Card(\"2h\"), Card(\"2s\"))), Bet(bet=15), Call()), community=(), active=0, stacks=(400, 400), pips=(16, 16), pot=3)\n"
     ]
    },
    {
     "data": {
      "text/plain": [
       "RiverOfBlood(history=(Draw(hand=(Card(\"2c\"), Card(\"2d\"))), Draw(hand=(Card(\"2h\"), Card(\"2s\"))), Bet(bet=15), Call(), Flop(cards=(Card(\"3c\"), Card(\"3d\"), Card(\"3h\")))), community=(Card(\"3c\"), Card(\"3d\"), Card(\"3h\")), active=1, stacks=(384, 384), pips=(0, 0), pot=35)"
      ]
     },
     "execution_count": 5,
     "metadata": {},
     "output_type": "execute_result"
    }
   ],
   "source": [
    "flop = third.apply(Bet(15)).apply(Call())\n",
    "print(flop)\n",
    "\n",
    "chances = iter(flop.chances())\n",
    "action = next(chances)\n",
    "flop = flop.apply(action)\n",
    "flop"
   ]
  }
 ],
 "metadata": {
  "kernelspec": {
   "display_name": "clean",
   "language": "python",
   "name": "python3"
  },
  "language_info": {
   "codemirror_mode": {
    "name": "ipython",
    "version": 3
   },
   "file_extension": ".py",
   "mimetype": "text/x-python",
   "name": "python",
   "nbconvert_exporter": "python",
   "pygments_lexer": "ipython3",
   "version": "3.10.8"
  },
  "orig_nbformat": 4,
  "vscode": {
   "interpreter": {
    "hash": "7ac02b84f0b2c07ad9d596dfc0dd5b68046a23d9882df65ad98f7b44c27b887b"
   }
  }
 },
 "nbformat": 4,
 "nbformat_minor": 2
}
