{
 "cells": [
  {
   "cell_type": "code",
   "execution_count": 1,
   "metadata": {},
   "outputs": [],
   "source": [
    "from zerosum.pkr.game import Call, Check, Fold, Bet, RaisePot, Draw, Allin\n",
    "from zerosum.algorithms.depthlimited import DepthLimited\n",
    "from zerosum.algorithms.cfr import CFR\n",
    "\n",
    "from blood.spesnova20 import Abstraction"
   ]
  },
  {
   "cell_type": "code",
   "execution_count": 2,
   "metadata": {},
   "outputs": [],
   "source": [
    "from zerosum.algorithms.algo import Runner\n",
    "\n",
    "runner = Runner.load(\"bloods/spesnova20.pkl\", Abstraction, 10, None)"
   ]
  },
  {
   "cell_type": "code",
   "execution_count": 3,
   "metadata": {},
   "outputs": [],
   "source": [
    "def subgame():\n",
    "    g = Abstraction()\n",
    "    g = g.apply(Draw((28, 29)))\n",
    "    g = g.apply(g.sample())\n",
    "    g = g.apply(RaisePot())\n",
    "    g = g.apply(RaisePot())\n",
    "    return g"
   ]
  },
  {
   "cell_type": "code",
   "execution_count": 4,
   "metadata": {},
   "outputs": [],
   "source": [
    "solver = DepthLimited(depth=3, maxiter=1, equilibirum=runner.impl.strategies)"
   ]
  },
  {
   "cell_type": "code",
   "execution_count": 7,
   "metadata": {},
   "outputs": [],
   "source": [
    "for _ in range(1000):\n",
    "    solver._run_iteration(subgame)"
   ]
  },
  {
   "cell_type": "code",
   "execution_count": 8,
   "metadata": {},
   "outputs": [
    {
     "name": "stdout",
     "output_type": "stream",
     "text": [
      "InfoSet(hand=(28, 29), community=(), player=0, stacks=(400, 400), pips=(4, 8), pot=0, history=(RaisePot(), RaisePot())) {Fold(): 0.0, Call(): 0.0, RaisePot(): 0.0, Allin(): 1819.0}\n"
     ]
    }
   ],
   "source": [
    "# type: ignore\n",
    "\n",
    "iset = subgame().infoset(0)\n",
    "print(iset._infoset, solver.strategies[iset])"
   ]
  },
  {
   "cell_type": "code",
   "execution_count": 121,
   "metadata": {},
   "outputs": [
    {
     "data": {
      "text/plain": [
       "{Fold(): 0.008465200310246722,\n",
       " Call(): 4515.645462659609,\n",
       " RaisePot(): 6150.482555240981,\n",
       " Allin(): 502.1538394796895}"
      ]
     },
     "execution_count": 121,
     "metadata": {},
     "output_type": "execute_result"
    }
   ],
   "source": [
    "runner.impl.strategies[iset]"
   ]
  },
  {
   "cell_type": "code",
   "execution_count": 113,
   "metadata": {},
   "outputs": [
    {
     "data": {
      "text/plain": [
       "(Card(\"9c\"), Card(\"9d\"))"
      ]
     },
     "execution_count": 113,
     "metadata": {},
     "output_type": "execute_result"
    }
   ],
   "source": [
    "import eval7\n",
    "\n",
    "cards = eval7.Deck().cards\n",
    "\n",
    "cards[28], cards[29]"
   ]
  }
 ],
 "metadata": {
  "kernelspec": {
   "display_name": "clean",
   "language": "python",
   "name": "python3"
  },
  "language_info": {
   "codemirror_mode": {
    "name": "ipython",
    "version": 3
   },
   "file_extension": ".py",
   "mimetype": "text/x-python",
   "name": "python",
   "nbconvert_exporter": "python",
   "pygments_lexer": "ipython3",
   "version": "3.10.8 | packaged by conda-forge | (main, Nov 22 2022, 08:25:29) [Clang 14.0.6 ]"
  },
  "orig_nbformat": 4,
  "vscode": {
   "interpreter": {
    "hash": "7ac02b84f0b2c07ad9d596dfc0dd5b68046a23d9882df65ad98f7b44c27b887b"
   }
  }
 },
 "nbformat": 4,
 "nbformat_minor": 2
}
