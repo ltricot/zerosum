{
 "cells": [
  {
   "cell_type": "code",
   "execution_count": 1,
   "metadata": {},
   "outputs": [],
   "source": [
    "import zerosum as zs\n",
    "from zerosum.algorithms.thompson import BetaThompson, LinearBetaThompson"
   ]
  },
  {
   "attachments": {},
   "cell_type": "markdown",
   "metadata": {},
   "source": [
    "Thompson Sampling for Rock Paper Scissors."
   ]
  },
  {
   "cell_type": "code",
   "execution_count": 2,
   "metadata": {},
   "outputs": [],
   "source": [
    "from zerosum.rps.game import RPS\n",
    "\n",
    "\n",
    "algo = BetaThompson((-1, 1))\n",
    "\n",
    "for _ in range(1000):\n",
    "    algo.once(RPS())"
   ]
  },
  {
   "cell_type": "code",
   "execution_count": 3,
   "metadata": {},
   "outputs": [
    {
     "data": {
      "text/plain": [
       "{InfoSet(player=0): {<Action.ROCK: 0>: (153.5, 182.5),\n",
       "  <Action.PAPER: 1>: (160.0, 184.0),\n",
       "  <Action.SCISSORS: 2>: (158.0, 168.0)},\n",
       " InfoSet(player=1): {<Action.ROCK: 0>: (187.0, 190.0),\n",
       "  <Action.PAPER: 1>: (148.5, 146.5),\n",
       "  <Action.SCISSORS: 2>: (163.5, 170.5)}}"
      ]
     },
     "execution_count": 3,
     "metadata": {},
     "output_type": "execute_result"
    }
   ],
   "source": [
    "algo.priors"
   ]
  },
  {
   "attachments": {},
   "cell_type": "markdown",
   "metadata": {},
   "source": [
    "It seems to work just as well with Kuhn poker."
   ]
  },
  {
   "cell_type": "code",
   "execution_count": 4,
   "metadata": {},
   "outputs": [],
   "source": [
    "from zerosum.kuhn.game import Kuhn"
   ]
  },
  {
   "cell_type": "code",
   "execution_count": 5,
   "metadata": {},
   "outputs": [],
   "source": [
    "algo = BetaThompson((-2, 2))\n",
    "\n",
    "for _ in range(30000):\n",
    "    algo.once(Kuhn())"
   ]
  },
  {
   "cell_type": "code",
   "execution_count": 6,
   "metadata": {},
   "outputs": [
    {
     "data": {
      "text/plain": [
       "{InfoSet(player=0, card=3, history=()): {<Action.CHECK: 5>: (4219.75, 1090.25),\n",
       "  <Action.BET: 4>: (3567.5, 913.5),\n",
       "  <Action.FOLD: 7>: (3.5, 8.5)},\n",
       " InfoSet(player=1, card=2, history=(<Action.BET: 4>,)): {<Action.CALL: 6>: (258.0,\n",
       "   834.0),\n",
       "  <Action.FOLD: 7>: (453.5, 1358.5)},\n",
       " InfoSet(player=0, card=2, history=()): {<Action.CHECK: 5>: (3669.5, 5138.5),\n",
       "  <Action.BET: 4>: (444.5, 715.5),\n",
       "  <Action.FOLD: 7>: (18.25, 52.75)},\n",
       " InfoSet(player=1, card=1, history=(<Action.BET: 4>,)): {<Action.CALL: 6>: (1.0,\n",
       "   22.0),\n",
       "  <Action.FOLD: 7>: (721.0, 2161.0)},\n",
       " InfoSet(player=1, card=3, history=(<Action.BET: 4>,)): {<Action.CALL: 6>: (1225.0,\n",
       "   1.0),\n",
       "  <Action.FOLD: 7>: (1.5, 2.5)},\n",
       " InfoSet(player=1, card=3, history=(<Action.CHECK: 5>,)): {<Action.BET: 4>: (4969.0,\n",
       "   972.0),\n",
       "  <Action.CHECK: 5>: (110.5, 37.5)},\n",
       " InfoSet(player=1, card=1, history=(<Action.CHECK: 5>,)): {<Action.BET: 4>: (577.0,\n",
       "   1800.0),\n",
       "  <Action.CHECK: 5>: (1186.0, 3556.0)},\n",
       " InfoSet(player=0, card=1, history=()): {<Action.CHECK: 5>: (919.0, 2776.0),\n",
       "  <Action.BET: 4>: (327.25, 1067.75),\n",
       "  <Action.FOLD: 7>: (1272.0, 3814.0)},\n",
       " InfoSet(player=0, card=2, history=(<Action.CHECK: 5>, <Action.BET: 4>)): {<Action.CALL: 6>: (667.0,\n",
       "   2107.0),\n",
       "  <Action.FOLD: 7>: (733.25, 2197.75)},\n",
       " InfoSet(player=1, card=2, history=(<Action.CHECK: 5>,)): {<Action.BET: 4>: (56.25,\n",
       "   116.75),\n",
       "  <Action.CHECK: 5>: (1971.0, 2413.0)},\n",
       " InfoSet(player=0, card=1, history=(<Action.CHECK: 5>, <Action.BET: 4>)): {<Action.CALL: 6>: (1.0,\n",
       "   22.0),\n",
       "  <Action.FOLD: 7>: (459.0, 1375.0)},\n",
       " InfoSet(player=0, card=3, history=(<Action.CHECK: 5>, <Action.BET: 4>)): {<Action.CALL: 6>: (956.0,\n",
       "   1.0),\n",
       "  <Action.FOLD: 7>: (1.5, 2.5)}}"
      ]
     },
     "execution_count": 6,
     "metadata": {},
     "output_type": "execute_result"
    }
   ],
   "source": [
    "algo.priors"
   ]
  },
  {
   "cell_type": "code",
   "execution_count": 7,
   "metadata": {},
   "outputs": [
    {
     "name": "stdout",
     "output_type": "stream",
     "text": [
      "/Users/belart/code/pkr/cfr\n"
     ]
    }
   ],
   "source": [
    "%cd .."
   ]
  },
  {
   "cell_type": "code",
   "execution_count": 44,
   "metadata": {},
   "outputs": [],
   "source": [
    "from blood.h8a20d30p import TrainingAbstraction\n",
    "\n",
    "algo = LinearBetaThompson((-400, 400), 1_000_000)"
   ]
  },
  {
   "cell_type": "code",
   "execution_count": 212,
   "metadata": {},
   "outputs": [
    {
     "name": "stdout",
     "output_type": "stream",
     "text": [
      "34898\t11332075\t\r"
     ]
    }
   ],
   "source": [
    "try:\n",
    "    for _ in range(10000):\n",
    "        for _ in range(100):\n",
    "            algo.once(TrainingAbstraction())\n",
    "\n",
    "        print(f\"{len(algo.priors)}\\t{algo.touched}\\t\", end=\"\\r\")\n",
    "except KeyboardInterrupt:\n",
    "    pass"
   ]
  },
  {
   "cell_type": "code",
   "execution_count": 213,
   "metadata": {},
   "outputs": [
    {
     "name": "stdout",
     "output_type": "stream",
     "text": [
      "TrainingAbstraction(history=(Draw(hand=(30, 7)), Draw(hand=(40, 39))), community=(), active=0, stacks=(400, 400), pips=(1, 2), pot=0)\n"
     ]
    },
    {
     "data": {
      "text/plain": [
       "{Fold(): (17.441250000000007, 17.448750000000008),\n",
       " Call(): (9.955000000000005, 9.955000000000002),\n",
       " RaisePot(): (14.396818181818174, 14.396818181818174),\n",
       " Allin(): (8.302045454545452, 7.297045454545453)}"
      ]
     },
     "execution_count": 213,
     "metadata": {},
     "output_type": "execute_result"
    }
   ],
   "source": [
    "g = TrainingAbstraction()\n",
    "\n",
    "g = g.apply(g.sample())\n",
    "g = g.apply(g.sample())\n",
    "\n",
    "infoset = g.infoset(g.active)\n",
    "print(g)\n",
    "algo.priors[infoset]"
   ]
  },
  {
   "cell_type": "code",
   "execution_count": 216,
   "metadata": {},
   "outputs": [
    {
     "name": "stderr",
     "output_type": "stream",
     "text": [
      "100%|██████████| 52/52 [00:00<00:00, 56.00it/s]\n"
     ]
    }
   ],
   "source": [
    "from zerosum.pkr.game import Draw, Fold, Call, RaisePot, Allin\n",
    "\n",
    "from collections import defaultdict\n",
    "from tqdm import tqdm\n",
    "import numpy as np\n",
    "\n",
    "\n",
    "table = defaultdict(list)\n",
    "\n",
    "for i in tqdm(range(52)):\n",
    "    for j in range(i + 1, 52):\n",
    "        if i == j:\n",
    "            continue\n",
    "\n",
    "        ri, si = divmod(i, 4)\n",
    "        rj, sj = divmod(j, 4)\n",
    "\n",
    "        g = TrainingAbstraction().apply(Draw((i, j))).apply(Draw((i, j)))\n",
    "        infoset = g.infoset(g.active)\n",
    "        try:\n",
    "            s = algo.priors[infoset]\n",
    "        except KeyError:\n",
    "            continue\n",
    "\n",
    "        l, r = 12 - min(ri, rj), 12 - max(ri, rj)\n",
    "        if si == sj:\n",
    "            ix = r, l\n",
    "        else:\n",
    "            ix = l, r\n",
    "\n",
    "        action = max(s, key=lambda a: s[a][0] / sum(s[a]))\n",
    "        would = isinstance(action, (Fold,))\n",
    "        table[ix].append(1 if would else 0)"
   ]
  },
  {
   "cell_type": "code",
   "execution_count": 217,
   "metadata": {},
   "outputs": [
    {
     "data": {
      "text/plain": [
       "<matplotlib.image.AxesImage at 0x16825cd30>"
      ]
     },
     "execution_count": 217,
     "metadata": {},
     "output_type": "execute_result"
    },
    {
     "data": {
      "image/png": "[encoded data removed]",
      "text/plain": [
       "<Figure size 480x480 with 1 Axes>"
      ]
     },
     "metadata": {},
     "output_type": "display_data"
    }
   ],
   "source": [
    "tab = np.zeros((13, 13))\n",
    "for (i, j), v in table.items():\n",
    "    tab[i, j] = np.mean(v)\n",
    "\n",
    "import matplotlib.pyplot as plt\n",
    "plt.matshow(tab, vmin=0, vmax=1)"
   ]
  },
  {
   "cell_type": "code",
   "execution_count": 157,
   "metadata": {},
   "outputs": [
    {
     "data": {
      "text/plain": [
       "31549"
      ]
     },
     "execution_count": 157,
     "metadata": {},
     "output_type": "execute_result"
    }
   ],
   "source": [
    "len(algo.priors)"
   ]
  },
  {
   "cell_type": "code",
   "execution_count": 160,
   "metadata": {},
   "outputs": [
    {
     "name": "stderr",
     "output_type": "stream",
     "text": [
      "100%|██████████| 31549/31549 [00:19<00:00, 1583.85it/s]\n"
     ]
    }
   ],
   "source": [
    "s = {}\n",
    "for iset, priors in tqdm(algo.priors.items()):\n",
    "    s[iset] = {a: p[0] / sum(p) for a, p in priors.items()}"
   ]
  },
  {
   "cell_type": "code",
   "execution_count": 191,
   "metadata": {},
   "outputs": [],
   "source": [
    "def play(game, strategies):\n",
    "    while not game.terminal:\n",
    "        if game.chance:\n",
    "            action = game.sample()\n",
    "        else:\n",
    "            infoset = game.infoset(game.active)\n",
    "            actions = infoset.actions()\n",
    "\n",
    "            if infoset in strategies:\n",
    "                action = max(actions, key=strategies[infoset].__getitem__)\n",
    "            else:\n",
    "                actions = infoset.actions()\n",
    "                action = np.random.choice(actions)\n",
    "                print(\"unknown\")\n",
    "\n",
    "        yield action\n",
    "        game = game.apply(action)"
   ]
  },
  {
   "cell_type": "code",
   "execution_count": 201,
   "metadata": {},
   "outputs": [
    {
     "data": {
      "text/plain": [
       "[Draw(hand=(35, 39)),\n",
       " Draw(hand=(25, 38)),\n",
       " Allin(),\n",
       " Call(),\n",
       " Flop(cards=(50, 8, 18)),\n",
       " Check(),\n",
       " Check(),\n",
       " Turn(cards=(29,)),\n",
       " Check(),\n",
       " Check(),\n",
       " River(cards=(23,)),\n",
       " Check(),\n",
       " Check()]"
      ]
     },
     "execution_count": 201,
     "metadata": {},
     "output_type": "execute_result"
    }
   ],
   "source": [
    "from zerosum.game import play\n",
    "\n",
    "list(play(TrainingAbstraction(), s))"
   ]
  }
 ],
 "metadata": {
  "kernelspec": {
   "display_name": "clean",
   "language": "python",
   "name": "python3"
  },
  "language_info": {
   "codemirror_mode": {
    "name": "ipython",
    "version": 3
   },
   "file_extension": ".py",
   "mimetype": "text/x-python",
   "name": "python",
   "nbconvert_exporter": "python",
   "pygments_lexer": "ipython3",
   "version": "3.10.8"
  },
  "orig_nbformat": 4,
  "vscode": {
   "interpreter": {
    "hash": "7ac02b84f0b2c07ad9d596dfc0dd5b68046a23d9882df65ad98f7b44c27b887b"
   }
  }
 },
 "nbformat": 4,
 "nbformat_minor": 2
}
