{
 "cells": [
  {
   "cell_type": "code",
   "execution_count": 215,
   "metadata": {},
   "outputs": [],
   "source": [
    "import eval7\n",
    "\n",
    "import random\n",
    "\n",
    "\n",
    "Card = eval7.Card\n",
    "Hand = tuple[Card, ...]\n",
    "\n",
    "\n",
    "def hs(hand: Hand, maxiter: int) -> float:\n",
    "    cards = [*eval7.Deck().cards]\n",
    "    for card in hand:\n",
    "        cards.remove(card)\n",
    "\n",
    "    sco = 0\n",
    "    for _ in range(maxiter):\n",
    "        random.shuffle(cards)\n",
    "\n",
    "        if len(hand) < 7 or hand[-1].suit in (1, 2):\n",
    "            i = 0\n",
    "            while i + len(hand) < 7 or cards[i].suit in (1, 2):\n",
    "                i += 1\n",
    "            community = cards[:i + 1]\n",
    "            othe = tuple(cards[i + 1:i + 3])\n",
    "        else:\n",
    "            community = cards[:0]\n",
    "            othe = tuple(cards[:2])\n",
    "        \n",
    "        us = eval7.evaluate(hand + tuple(community))\n",
    "        op = eval7.evaluate(othe + hand[2:] + tuple(community))\n",
    "        sco += 2 if us > op else 1 if us == op else 0\n",
    "\n",
    "    return sco / (2 * maxiter)"
   ]
  },
  {
   "cell_type": "code",
   "execution_count": 216,
   "metadata": {},
   "outputs": [
    {
     "data": {
      "text/plain": [
       "0.93"
      ]
     },
     "execution_count": 216,
     "metadata": {},
     "output_type": "execute_result"
    }
   ],
   "source": [
    "hs((Card('Ad'), Card('Ah'), Card('Ac')), 100)"
   ]
  },
  {
   "cell_type": "code",
   "execution_count": 289,
   "metadata": {},
   "outputs": [],
   "source": [
    "from itertools import combinations\n",
    "\n",
    "\n",
    "def profile(hand: tuple[Card, ...], maxiter: int) -> list[float]:\n",
    "    cards = [*eval7.Deck().cards]\n",
    "    for card in hand:\n",
    "        cards.remove(card)\n",
    "\n",
    "    vals = []\n",
    "    for _ in range(maxiter):\n",
    "        random.shuffle(cards)\n",
    "\n",
    "        if len(hand) != 7 or hand[-1].suit in (1, 2):\n",
    "            i = 0\n",
    "            while i + len(hand) < 7 or cards[i].suit in (1, 2):\n",
    "                i += 1\n",
    "            community = cards[:i + 1]\n",
    "        else:\n",
    "            community = cards[:0]\n",
    "        \n",
    "        v = hs(hand + tuple(community), 30)\n",
    "        vals.append(v + (random.random() - 1/2) * 0.01)\n",
    "        # vals.append(v)\n",
    "    \n",
    "    return vals"
   ]
  },
  {
   "cell_type": "code",
   "execution_count": 290,
   "metadata": {},
   "outputs": [],
   "source": [
    "from tqdm.notebook import tqdm"
   ]
  },
  {
   "cell_type": "code",
   "execution_count": 291,
   "metadata": {},
   "outputs": [
    {
     "data": {
      "application/vnd.jupyter.widget-view+json": {
       "model_id": "881f00d5bdd243148b38b27fd2df027e",
       "version_major": 2,
       "version_minor": 0
      },
      "text/plain": [
       "0it [00:00, ?it/s]"
      ]
     },
     "metadata": {},
     "output_type": "display_data"
    }
   ],
   "source": [
    "profiles = {}\n",
    "for hand in tqdm(combinations(eval7.Deck().cards, 2)):\n",
    "    profiles[hand] = profile(hand, 100)"
   ]
  },
  {
   "cell_type": "code",
   "execution_count": 182,
   "metadata": {},
   "outputs": [],
   "source": [
    "def emd(h1: list[float], h2: list[float]) -> float:\n",
    "    d = 0\n",
    "\n",
    "    carry = 0\n",
    "    for v1, v2 in zip(h1, h2):\n",
    "        d += abs(carry)\n",
    "        carry = v1 + carry - v2\n",
    "\n",
    "    return d"
   ]
  }
 ],
 "metadata": {
  "kernelspec": {
   "display_name": "clean",
   "language": "python",
   "name": "python3"
  },
  "language_info": {
   "codemirror_mode": {
    "name": "ipython",
    "version": 3
   },
   "file_extension": ".py",
   "mimetype": "text/x-python",
   "name": "python",
   "nbconvert_exporter": "python",
   "pygments_lexer": "ipython3",
   "version": "3.10.8"
  },
  "orig_nbformat": 4,
  "vscode": {
   "interpreter": {
    "hash": "7ac02b84f0b2c07ad9d596dfc0dd5b68046a23d9882df65ad98f7b44c27b887b"
   }
  }
 },
 "nbformat": 4,
 "nbformat_minor": 2
}
